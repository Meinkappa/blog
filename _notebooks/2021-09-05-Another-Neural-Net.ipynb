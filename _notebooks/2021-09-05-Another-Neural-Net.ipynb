{
  "nbformat": 4,
  "nbformat_minor": 0,
  "metadata": {
    "colab": {
      "name": "Mnist_Python_real_functional_blog.ipynb",
      "provenance": [],
      "collapsed_sections": [
        "Q0F50xpxu5kh"
      ]
    },
    "kernelspec": {
      "display_name": "Python 3",
      "name": "python3"
    }
  },
  "cells": [
    {
      "cell_type": "markdown",
      "metadata": {
        "id": "2rrtRAkL3p_Y"
      },
      "source": [
        "# Training a model with pure python (different approach from using classes)"
      ]
    },
    {
      "cell_type": "markdown",
      "metadata": {
        "id": "CeOPKvmxyJG9"
      },
      "source": [
        "This time, instead of using classes, I am trying a different approach, which is by just using functions. This is neither flexible nor expandable as using classes. Also, it is more cumbersome to write it this way as each parameter needs to be tracked and passed manually. Although I could write with type dispatch and layer abstraction, I just wanted to get it over with a bare bone working model and worry about expanding it later."
      ]
    },
    {
      "cell_type": "code",
      "metadata": {
        "id": "FUdSF1LI_ihk"
      },
      "source": [
        "import gzip\n",
        "import matplotlib.pyplot as plt\n",
        "import random\n",
        "import statistics\n",
        "import math\n",
        "import operator as op\n",
        "import time\n",
        "from functools import reduce"
      ],
      "execution_count": 41,
      "outputs": []
    },
    {
      "cell_type": "markdown",
      "metadata": {
        "id": "xwaS_qLE87Gq"
      },
      "source": [
        "It is pretty much the same program until the model part. "
      ]
    },
    {
      "cell_type": "markdown",
      "metadata": {
        "id": "WeEFHBXRyolB"
      },
      "source": [
        "## Utilities"
      ]
    },
    {
      "cell_type": "markdown",
      "metadata": {
        "id": "NL_G6tlCyu64"
      },
      "source": [
        "Because we are only using python lists, we need to build utilities or tools we need in order to train our model. First, I start with shape, which returns a tuple of shape of a matrix or a list"
      ]
    },
    {
      "cell_type": "code",
      "metadata": {
        "id": "52-SIJuJ0jbx"
      },
      "source": [
        "def shape(t) -> tuple:\n",
        "    \"Using for loop to go deeper, but only goes up to 10 layers.\"\n",
        "    # It only works up to 10 levels of deep\n",
        "    res = tuple()\n",
        "    for i in range(0, 10):\n",
        "        try:\n",
        "            # Using eval is very slow. I gotta come up with other way to do this.\n",
        "            res += (len(eval('t'+str('[0]'*i))),)\n",
        "        except TypeError:\n",
        "            # print('Not a list')\n",
        "            break\n",
        "        except IndexError:\n",
        "            print('Cant index it')\n",
        "            break\n",
        "    return res"
      ],
      "execution_count": 42,
      "outputs": []
    },
    {
      "cell_type": "code",
      "metadata": {
        "id": "bP4BhrH0V1oo"
      },
      "source": [
        "def shape(t) ->  tuple:\n",
        "    \"\"\" It uses while loop to go through so that we are not limited to 10.\n",
        "        However, using i to keep up with a value does not seem too pythonic. \"\"\"\n",
        "    res = tuple()\n",
        "    i = 0\n",
        "    while True:\n",
        "        try:\n",
        "            # Using eval is very slow. I gotta come up with other way to do this.\n",
        "            res += (len(eval('t'+str('[0]'*i))),)\n",
        "            # print('t'+str('[0]'*i), ' eval is ', len(eval('t'+str('[0]'*i))))\n",
        "        except TypeError:\n",
        "            # print('Not a list')\n",
        "            break\n",
        "        except IndexError:\n",
        "            print('Cant index it')\n",
        "            break\n",
        "        i += 1\n",
        "    return res"
      ],
      "execution_count": 43,
      "outputs": []
    },
    {
      "cell_type": "code",
      "metadata": {
        "id": "fVNEQEJNyIrB"
      },
      "source": [
        "def shape(t) -> tuple:\n",
        "    \"\"\" More elegent way to approach. \"\"\"\n",
        "    def loop(mat, result):\n",
        "        if not isinstance(mat, list):\n",
        "            return result\n",
        "        else:\n",
        "            return loop(mat[0], result + (len(mat),))\n",
        "    return loop(t, tuple())"
      ],
      "execution_count": 44,
      "outputs": []
    },
    {
      "cell_type": "markdown",
      "metadata": {
        "id": "-scbEgQ24KaM"
      },
      "source": [
        "Still works as well"
      ]
    },
    {
      "cell_type": "code",
      "metadata": {
        "colab": {
          "base_uri": "https://localhost:8080/"
        },
        "id": "Nf7SY2Zk0kh6",
        "outputId": "fe0102da-9796-42a1-b6c7-d4a4f20877dc"
      },
      "source": [
        "shape([1, 2, 3]), shape([[1, 2, 3], [4, 5, 6]])"
      ],
      "execution_count": 45,
      "outputs": [
        {
          "output_type": "execute_result",
          "data": {
            "text/plain": [
              "((3,), (2, 3))"
            ]
          },
          "metadata": {},
          "execution_count": 45
        }
      ]
    },
    {
      "cell_type": "markdown",
      "metadata": {
        "id": "4D2Xys0Ti9pD"
      },
      "source": [
        "Now that we have a way of getting a shape of a matrix, we can move onto map_mat, which takes a function and a vector or a matrix. It calls the function and mapping into a matrix or a vector. "
      ]
    },
    {
      "cell_type": "code",
      "metadata": {
        "id": "8PoPebCOKpd3"
      },
      "source": [
        "def map_mat(fn, mat):\n",
        "    \"Apply fn into a matrix or a vector\"\n",
        "    res = []\n",
        "    if len(shape(mat)) == 2:        # It is a matrix\n",
        "        for i in range(len(mat)):\n",
        "            res.append([fn(m) for m in mat[i]])\n",
        "    else:                           # It is a vector\n",
        "        return list(map(fn, mat))\n",
        "    return res"
      ],
      "execution_count": 46,
      "outputs": []
    },
    {
      "cell_type": "code",
      "metadata": {
        "id": "YfHZQv1g4P2b"
      },
      "source": [
        "lst = [1, 2, 3, 4, 5]\n",
        "mat1 = [[1, 2, 3],\n",
        "        [4, 5, 6],\n",
        "        [7, 8, 9]]"
      ],
      "execution_count": 47,
      "outputs": []
    },
    {
      "cell_type": "code",
      "metadata": {
        "colab": {
          "base_uri": "https://localhost:8080/"
        },
        "id": "vyg8MMz54bRX",
        "outputId": "5dbadd20-78f7-406d-f312-16c631a7921c"
      },
      "source": [
        "map_mat(lambda x: x + 1, lst)"
      ],
      "execution_count": 48,
      "outputs": [
        {
          "output_type": "execute_result",
          "data": {
            "text/plain": [
              "[2, 3, 4, 5, 6]"
            ]
          },
          "metadata": {},
          "execution_count": 48
        }
      ]
    },
    {
      "cell_type": "code",
      "metadata": {
        "colab": {
          "base_uri": "https://localhost:8080/"
        },
        "id": "Qxt5owFt4jbB",
        "outputId": "ec5f477f-aa0c-469b-e0c1-65a09d58c093"
      },
      "source": [
        "map_mat(lambda x: x + 1, mat1)"
      ],
      "execution_count": 49,
      "outputs": [
        {
          "output_type": "execute_result",
          "data": {
            "text/plain": [
              "[[2, 3, 4], [5, 6, 7], [8, 9, 10]]"
            ]
          },
          "metadata": {},
          "execution_count": 49
        }
      ]
    },
    {
      "cell_type": "markdown",
      "metadata": {
        "id": "FLnxGW8OH_KD"
      },
      "source": [
        "Instead of using for loops, it is faster to use list comprehension."
      ]
    },
    {
      "cell_type": "code",
      "metadata": {
        "id": "g55N75ooFBYf"
      },
      "source": [
        "def map_mat2(fn, mat):\n",
        "    \"A little faster than map_mat.\"\n",
        "    return [list(map(fn, mat[i])) for i in range(len(mat))]"
      ],
      "execution_count": 50,
      "outputs": []
    },
    {
      "cell_type": "code",
      "metadata": {
        "id": "8d78T7UqFLnJ"
      },
      "source": [
        "# %timeit -n 20 map_mat(lambda x: x*0.1, x)"
      ],
      "execution_count": 51,
      "outputs": []
    },
    {
      "cell_type": "code",
      "metadata": {
        "id": "UPuX5-bGEvjK"
      },
      "source": [
        "# %timeit -n 20 map_mat2(lambda x: x*0.1, x)"
      ],
      "execution_count": 52,
      "outputs": []
    },
    {
      "cell_type": "markdown",
      "metadata": {
        "id": "jHT-j-Qi4tDu"
      },
      "source": [
        "It would be better if we can make matrices easier instead of making them by hand."
      ]
    },
    {
      "cell_type": "code",
      "metadata": {
        "id": "KzSsTWH10SPj"
      },
      "source": [
        "def lst_nums(shape, num=1):\n",
        "    \"Use optional num to define what a list is full of. Default is 1\"\n",
        "    if isinstance(shape, tuple):\n",
        "        x, y = shape\n",
        "        return [[num]*y for _ in range(x)]\n",
        "    else:\n",
        "        x = shape\n",
        "        return [num]*x"
      ],
      "execution_count": 53,
      "outputs": []
    },
    {
      "cell_type": "code",
      "metadata": {
        "colab": {
          "base_uri": "https://localhost:8080/"
        },
        "id": "kloNTeasf1pF",
        "outputId": "2a18a7c5-4f4c-4b13-e131-bb99f9fe389e"
      },
      "source": [
        "hund_1s = lst_nums((10, 10), 1)\n",
        "len(hund_1s), len(hund_1s[0])"
      ],
      "execution_count": 54,
      "outputs": [
        {
          "output_type": "execute_result",
          "data": {
            "text/plain": [
              "(10, 10)"
            ]
          },
          "metadata": {},
          "execution_count": 54
        }
      ]
    },
    {
      "cell_type": "code",
      "metadata": {
        "colab": {
          "base_uri": "https://localhost:8080/"
        },
        "id": "ms10jgtPmQdR",
        "outputId": "9d8544c5-4584-4efc-ddbc-15910c0a30f9"
      },
      "source": [
        "hund_1s"
      ],
      "execution_count": 55,
      "outputs": [
        {
          "output_type": "execute_result",
          "data": {
            "text/plain": [
              "[[1, 1, 1, 1, 1, 1, 1, 1, 1, 1],\n",
              " [1, 1, 1, 1, 1, 1, 1, 1, 1, 1],\n",
              " [1, 1, 1, 1, 1, 1, 1, 1, 1, 1],\n",
              " [1, 1, 1, 1, 1, 1, 1, 1, 1, 1],\n",
              " [1, 1, 1, 1, 1, 1, 1, 1, 1, 1],\n",
              " [1, 1, 1, 1, 1, 1, 1, 1, 1, 1],\n",
              " [1, 1, 1, 1, 1, 1, 1, 1, 1, 1],\n",
              " [1, 1, 1, 1, 1, 1, 1, 1, 1, 1],\n",
              " [1, 1, 1, 1, 1, 1, 1, 1, 1, 1],\n",
              " [1, 1, 1, 1, 1, 1, 1, 1, 1, 1]]"
            ]
          },
          "metadata": {},
          "execution_count": 55
        }
      ]
    },
    {
      "cell_type": "markdown",
      "metadata": {
        "id": "1sgx_cODoESX"
      },
      "source": [
        "This one gets random numbers. "
      ]
    },
    {
      "cell_type": "code",
      "metadata": {
        "id": "5vx-dBJ12VlH"
      },
      "source": [
        "def lst_random(shape, init_parms=False):\n",
        "    \"return a list of randoms and if init_parms is True, initialize parameters using Kaiming init.\"\n",
        "    x, y = shape\n",
        "    res = lst_nums(shape, 0)\n",
        "    for i in range(x):\n",
        "        for j in range(y):\n",
        "            res[i][j] = random.normalvariate(0,1)\n",
        "            if init_parms: res[i][j] *= math.sqrt(2/x)\n",
        "    return res"
      ],
      "execution_count": 56,
      "outputs": []
    },
    {
      "cell_type": "code",
      "metadata": {
        "colab": {
          "base_uri": "https://localhost:8080/"
        },
        "id": "Y8XSCmBjpKqj",
        "outputId": "503c7d76-3146-4d3c-f170-4f1b9defb4fc"
      },
      "source": [
        "rand_mat = lst_random((10,10))\n",
        "shape(rand_mat)"
      ],
      "execution_count": 57,
      "outputs": [
        {
          "output_type": "execute_result",
          "data": {
            "text/plain": [
              "(10, 10)"
            ]
          },
          "metadata": {},
          "execution_count": 57
        }
      ]
    },
    {
      "cell_type": "markdown",
      "metadata": {
        "id": "H3qfotpLehFN"
      },
      "source": [
        "Here is transpose function, which transposes a matrix."
      ]
    },
    {
      "cell_type": "code",
      "metadata": {
        "id": "_QwjE94JptOr"
      },
      "source": [
        "def transpose (mat):\n",
        "    \"Transpose the matrix\"\n",
        "    return [[m[i] for m in mat] for i in range(len(mat[0]))]"
      ],
      "execution_count": 58,
      "outputs": []
    },
    {
      "cell_type": "markdown",
      "metadata": {
        "id": "hG3H9g_Xmsrq"
      },
      "source": [
        "Now that we can make matrices with ease, we need a function that can be called using multiple matrices. With elementwise function, we can call a function with inputs from two matrices elementwise. This is very useful function when it comes to training a model later on."
      ]
    },
    {
      "cell_type": "code",
      "metadata": {
        "id": "T2K15xPgT2nZ"
      },
      "source": [
        "def elementwise (fn, mat1, mat2):\n",
        "    \"Closure that returns function that does element wise action\"\n",
        "    # can it handle (64,), (64,)?  YES!\n",
        "    mat = []\n",
        "    try: \n",
        "        m1r,m1c = shape(mat1)\n",
        "    except ValueError: \n",
        "        m1r = shape(mat1)[0]\n",
        "        m1c = 0\n",
        "    try: \n",
        "        m2r,m2c = shape(mat2)\n",
        "    except ValueError: \n",
        "        m2r = shape(mat2)[0]\n",
        "        m2c = 0\n",
        "    if m1c == m2c == 0:             # Two 1D vectors\n",
        "        return list(map(fn, mat1, mat2))\n",
        "    elif (m1r, m1c) == (m2r, m2c):  # two matrixs with same sizes\n",
        "        return [[fn(x,y) for x,y in zip(mat1[i], mat2[i])] for i in range(len(mat1))]\n",
        "    elif m1c == m2r and m2c==0:     # shape of (a, b), (b,)\n",
        "        for i in range(m1r):\n",
        "            mat.append([fn(x,y) for x,y in zip(mat1[i],mat2)])\n",
        "        return mat\n",
        "    elif m1r == m2r and m2c == 0:   # shape of (a, b), (a,)\n",
        "        for i in range(m1r):\n",
        "            mat.append([fn(m, mat2[i]) for m in mat1[i]])\n",
        "        return mat\n",
        "    else:\n",
        "        assert False, \"WTF??\""
      ],
      "execution_count": 59,
      "outputs": []
    },
    {
      "cell_type": "code",
      "metadata": {
        "id": "kOmejvQ7l_XD"
      },
      "source": [
        "hund_2s = lst_nums((10, 10), 2)"
      ],
      "execution_count": 60,
      "outputs": []
    },
    {
      "cell_type": "code",
      "metadata": {
        "colab": {
          "base_uri": "https://localhost:8080/"
        },
        "id": "7YD6Q-iSnwEh",
        "outputId": "d2b0a68b-cdcd-424f-fcff-6f31145625f3"
      },
      "source": [
        "elementwise(lambda x, y: x+y, hund_1s, hund_2s)"
      ],
      "execution_count": 61,
      "outputs": [
        {
          "output_type": "execute_result",
          "data": {
            "text/plain": [
              "[[3, 3, 3, 3, 3, 3, 3, 3, 3, 3],\n",
              " [3, 3, 3, 3, 3, 3, 3, 3, 3, 3],\n",
              " [3, 3, 3, 3, 3, 3, 3, 3, 3, 3],\n",
              " [3, 3, 3, 3, 3, 3, 3, 3, 3, 3],\n",
              " [3, 3, 3, 3, 3, 3, 3, 3, 3, 3],\n",
              " [3, 3, 3, 3, 3, 3, 3, 3, 3, 3],\n",
              " [3, 3, 3, 3, 3, 3, 3, 3, 3, 3],\n",
              " [3, 3, 3, 3, 3, 3, 3, 3, 3, 3],\n",
              " [3, 3, 3, 3, 3, 3, 3, 3, 3, 3],\n",
              " [3, 3, 3, 3, 3, 3, 3, 3, 3, 3]]"
            ]
          },
          "metadata": {},
          "execution_count": 61
        }
      ]
    },
    {
      "cell_type": "code",
      "metadata": {
        "colab": {
          "base_uri": "https://localhost:8080/"
        },
        "id": "m0NK2FMkp850",
        "outputId": "28824ef8-1e63-4962-b782-ca228177c77a"
      },
      "source": [
        "rand_mat[0]"
      ],
      "execution_count": 62,
      "outputs": [
        {
          "output_type": "execute_result",
          "data": {
            "text/plain": [
              "[-0.5530030250562127,\n",
              " -0.9095684272234024,\n",
              " 0.3020748692896096,\n",
              " 0.5823743868390977,\n",
              " 1.1346295147026815,\n",
              " -0.2642603973797358,\n",
              " 0.9610147828440702,\n",
              " 0.293583831352499,\n",
              " -0.7606877359378155,\n",
              " -1.453174270668391]"
            ]
          },
          "metadata": {},
          "execution_count": 62
        }
      ]
    },
    {
      "cell_type": "code",
      "metadata": {
        "id": "bMnaQ_p-qBeg"
      },
      "source": [
        "# %prun elementwise(lambda x, y: x+y, ml1, hund_3s)"
      ],
      "execution_count": 63,
      "outputs": []
    },
    {
      "cell_type": "markdown",
      "metadata": {
        "id": "gIxYBmPVxZoG"
      },
      "source": [
        "Now, we need to reshape our matrices into whatever shape we want. "
      ]
    },
    {
      "cell_type": "code",
      "metadata": {
        "id": "l58QgfFcy-cH"
      },
      "source": [
        "def reshape(matrix, new_shape) -> list:\n",
        "    \"\"\" If matrix can be reshaped into new_shape, then\n",
        "        return a new matrix with a respective shape. \n",
        "        Only supports matrices into 2 dimensional arrays.\"\"\"\n",
        "    old_shape = shape(matrix)\n",
        "    elem_nums = mul(old_shape)\n",
        "    if old_shape == new_shape:\n",
        "        return matrix\n",
        "    elif not elem_nums == mul(new_shape):\n",
        "        raise Exception(\"Wrong shape!\")\n",
        "    else:\n",
        "        return shaping(flatten(matrix), new_shape, elem_nums, list())"
      ],
      "execution_count": 64,
      "outputs": []
    },
    {
      "cell_type": "code",
      "metadata": {
        "id": "mIS4K3984lDW"
      },
      "source": [
        "def mul(lst: list) -> int:\n",
        "    \"\"\" Return a result of all numbers multiplied.\n",
        "        Like sum, but multiplying. \"\"\"\n",
        "    return reduce(op.mul, lst, 1)"
      ],
      "execution_count": 65,
      "outputs": []
    },
    {
      "cell_type": "code",
      "metadata": {
        "id": "u8EuSwfcXjZX"
      },
      "source": [
        "def shaping(flat, new_shape, elem_nums, result):\n",
        "    if len(new_shape) == 0:\n",
        "        return result\n",
        "    else:\n",
        "        div = elem_nums // new_shape[0]\n",
        "        for i in range(new_shape[0]):\n",
        "            result.append(flat[(i * div):((i+1) * div)])\n",
        "    return result"
      ],
      "execution_count": 66,
      "outputs": []
    },
    {
      "cell_type": "code",
      "metadata": {
        "id": "viHxPFfUp5L7"
      },
      "source": [
        "def flatten(matrix):\n",
        "    \"\"\" Flatten a matrix into a 1 dimensional list. \"\"\"\n",
        "    result = []\n",
        "    for i in range(len(matrix)):\n",
        "        if isinstance(matrix[i], list):\n",
        "            result.extend(flatten(matrix[i]))\n",
        "        else:\n",
        "            result.append(matrix[i])\n",
        "    return result"
      ],
      "execution_count": 67,
      "outputs": []
    },
    {
      "cell_type": "markdown",
      "metadata": {
        "id": "h5zbAsj8uM63"
      },
      "source": [
        "Testing new tools "
      ]
    },
    {
      "cell_type": "code",
      "metadata": {
        "colab": {
          "base_uri": "https://localhost:8080/"
        },
        "id": "nJrNBB4FrY_F",
        "outputId": "3bd0ed5c-b0e9-4107-f0d0-e326948a8ea7"
      },
      "source": [
        "shaping(flatten([1, [2, [[[4]]]], 3]), (2,2), 4, [])"
      ],
      "execution_count": 68,
      "outputs": [
        {
          "output_type": "execute_result",
          "data": {
            "text/plain": [
              "[[1, 2], [4, 3]]"
            ]
          },
          "metadata": {},
          "execution_count": 68
        }
      ]
    },
    {
      "cell_type": "code",
      "metadata": {
        "colab": {
          "base_uri": "https://localhost:8080/"
        },
        "id": "CykgKRLYsS4A",
        "outputId": "f8c98bd0-2b15-4b0a-b257-7d076fc71194"
      },
      "source": [
        "shape(flatten(hund_1s))"
      ],
      "execution_count": 69,
      "outputs": [
        {
          "output_type": "execute_result",
          "data": {
            "text/plain": [
              "(100,)"
            ]
          },
          "metadata": {},
          "execution_count": 69
        }
      ]
    },
    {
      "cell_type": "code",
      "metadata": {
        "colab": {
          "base_uri": "https://localhost:8080/"
        },
        "id": "zXhBXyVc4dWh",
        "outputId": "4bc1102c-9d01-4e5b-a12c-3bc7c53b2563"
      },
      "source": [
        "# Reshape works with shape function.\n",
        "shape(reshape(hund_1s, (100, 1))), shape(reshape(hund_1s, (1, 100)))"
      ],
      "execution_count": 70,
      "outputs": [
        {
          "output_type": "execute_result",
          "data": {
            "text/plain": [
              "((100, 1), (1, 100))"
            ]
          },
          "metadata": {},
          "execution_count": 70
        }
      ]
    },
    {
      "cell_type": "code",
      "metadata": {
        "colab": {
          "base_uri": "https://localhost:8080/"
        },
        "id": "QEp1bYyruL7U",
        "outputId": "7dbe1dcd-4f03-4c65-8ede-09ca0e3c8166"
      },
      "source": [
        "mat3 = [[[1, 2],\n",
        "         [3, 4]],\n",
        "        [[5, 6],\n",
        "         [7, 8]]]\n",
        "mat3, shape(mat3)"
      ],
      "execution_count": 71,
      "outputs": [
        {
          "output_type": "execute_result",
          "data": {
            "text/plain": [
              "([[[1, 2], [3, 4]], [[5, 6], [7, 8]]], (2, 2, 2))"
            ]
          },
          "metadata": {},
          "execution_count": 71
        }
      ]
    },
    {
      "cell_type": "code",
      "metadata": {
        "colab": {
          "base_uri": "https://localhost:8080/"
        },
        "id": "N-SWDclAu0fa",
        "outputId": "7b814e0e-a513-49da-d9c5-eb1c7c999277"
      },
      "source": [
        "shape(reshape(mat3, (4, 2))), reshape(mat3, (4, 2))"
      ],
      "execution_count": 72,
      "outputs": [
        {
          "output_type": "execute_result",
          "data": {
            "text/plain": [
              "((4, 2), [[1, 2], [3, 4], [5, 6], [7, 8]])"
            ]
          },
          "metadata": {},
          "execution_count": 72
        }
      ]
    },
    {
      "cell_type": "markdown",
      "metadata": {
        "id": "keM-2-8TqMf1"
      },
      "source": [
        "## Collecting Data"
      ]
    },
    {
      "cell_type": "markdown",
      "metadata": {
        "id": "43tZbVtO5zbH"
      },
      "source": [
        "First, we need data if we want to do some training. We are using mnist dataset from yann lecun website. The dataset has training images and testing/validating images. "
      ]
    },
    {
      "cell_type": "code",
      "metadata": {
        "colab": {
          "base_uri": "https://localhost:8080/"
        },
        "id": "pYWKuIgIwl3C",
        "outputId": "790ba353-7c3c-4bff-fa4f-165d82b4c863"
      },
      "source": [
        "!wget http://yann.lecun.com/exdb/mnist/train-images-idx3-ubyte.gz\n",
        "!wget http://yann.lecun.com/exdb/mnist/train-labels-idx1-ubyte.gz\n",
        "!wget http://yann.lecun.com/exdb/mnist/t10k-images-idx3-ubyte.gz\n",
        "!wget http://yann.lecun.com/exdb/mnist/t10k-labels-idx1-ubyte.gz"
      ],
      "execution_count": 73,
      "outputs": [
        {
          "output_type": "stream",
          "name": "stdout",
          "text": [
            "--2021-09-06 04:05:43--  http://yann.lecun.com/exdb/mnist/train-images-idx3-ubyte.gz\n",
            "Resolving yann.lecun.com (yann.lecun.com)... 172.67.171.76, 104.21.29.36, 2606:4700:3034::6815:1d24, ...\n",
            "Connecting to yann.lecun.com (yann.lecun.com)|172.67.171.76|:80... connected.\n",
            "HTTP request sent, awaiting response... 200 OK\n",
            "Length: 9912422 (9.5M) [application/x-gzip]\n",
            "Saving to: ‘train-images-idx3-ubyte.gz’\n",
            "\n",
            "train-images-idx3-u 100%[===================>]   9.45M  7.58MB/s    in 1.2s    \n",
            "\n",
            "2021-09-06 04:05:44 (7.58 MB/s) - ‘train-images-idx3-ubyte.gz’ saved [9912422/9912422]\n",
            "\n",
            "--2021-09-06 04:05:44--  http://yann.lecun.com/exdb/mnist/train-labels-idx1-ubyte.gz\n",
            "Resolving yann.lecun.com (yann.lecun.com)... 172.67.171.76, 104.21.29.36, 2606:4700:3034::6815:1d24, ...\n",
            "Connecting to yann.lecun.com (yann.lecun.com)|172.67.171.76|:80... connected.\n",
            "HTTP request sent, awaiting response... 200 OK\n",
            "Length: 28881 (28K) [application/x-gzip]\n",
            "Saving to: ‘train-labels-idx1-ubyte.gz’\n",
            "\n",
            "train-labels-idx1-u 100%[===================>]  28.20K  --.-KB/s    in 0s      \n",
            "\n",
            "2021-09-06 04:05:44 (408 MB/s) - ‘train-labels-idx1-ubyte.gz’ saved [28881/28881]\n",
            "\n",
            "--2021-09-06 04:05:44--  http://yann.lecun.com/exdb/mnist/t10k-images-idx3-ubyte.gz\n",
            "Resolving yann.lecun.com (yann.lecun.com)... 172.67.171.76, 104.21.29.36, 2606:4700:3034::6815:1d24, ...\n",
            "Connecting to yann.lecun.com (yann.lecun.com)|172.67.171.76|:80... connected.\n",
            "HTTP request sent, awaiting response... 200 OK\n",
            "Length: 1648877 (1.6M) [application/x-gzip]\n",
            "Saving to: ‘t10k-images-idx3-ubyte.gz’\n",
            "\n",
            "t10k-images-idx3-ub 100%[===================>]   1.57M  --.-KB/s    in 0.05s   \n",
            "\n",
            "2021-09-06 04:05:44 (30.0 MB/s) - ‘t10k-images-idx3-ubyte.gz’ saved [1648877/1648877]\n",
            "\n",
            "--2021-09-06 04:05:44--  http://yann.lecun.com/exdb/mnist/t10k-labels-idx1-ubyte.gz\n",
            "Resolving yann.lecun.com (yann.lecun.com)... 172.67.171.76, 104.21.29.36, 2606:4700:3034::6815:1d24, ...\n",
            "Connecting to yann.lecun.com (yann.lecun.com)|172.67.171.76|:80... connected.\n",
            "HTTP request sent, awaiting response... 200 OK\n",
            "Length: 4542 (4.4K) [application/x-gzip]\n",
            "Saving to: ‘t10k-labels-idx1-ubyte.gz’\n",
            "\n",
            "t10k-labels-idx1-ub 100%[===================>]   4.44K  --.-KB/s    in 0s      \n",
            "\n",
            "2021-09-06 04:05:44 (611 MB/s) - ‘t10k-labels-idx1-ubyte.gz’ saved [4542/4542]\n",
            "\n"
          ]
        }
      ]
    },
    {
      "cell_type": "markdown",
      "metadata": {
        "id": "gQ21AzC799sJ"
      },
      "source": [
        "Here, I convert zip files into image objects with functions I got from [here](https://stackoverflow.com/questions/40427435/extract-images-from-idx3-ubyte-file-or-gzip-via-python). I am only using numpy library for only conversion purposes."
      ]
    },
    {
      "cell_type": "code",
      "metadata": {
        "id": "KuPlRK1rzA8C"
      },
      "source": [
        "def mnist_images(fname:str, pct=1) -> list:\n",
        "    \"\"\" \n",
        "    Convert zip files into lists of images. \n",
        "    Only returning pct percent of data.     \n",
        "    \"\"\"\n",
        "    with gzip.open('data/'+fname, 'r') as f:\n",
        "        # first 4 bytes is a magic number\n",
        "        magic_number = int.from_bytes(f.read(4), 'big')\n",
        "        # second 4 bytes is the number of images\n",
        "        image_count = int.from_bytes(f.read(4), 'big')\n",
        "        # image_count = int(image_count * percent)\n",
        "        # third 4 bytes is the row count\n",
        "        row_count = int.from_bytes(f.read(4), 'big')\n",
        "        # fourth 4 bytes is the column count\n",
        "        column_count = int.from_bytes(f.read(4), 'big')\n",
        "        # rest is the image pixel data, each pixel is stored as an unsigned byte\n",
        "        # pixel values are 0 to 255\n",
        "        image_data = f.read()\n",
        "        images = reshape(list(image_data), (image_count, column_count, row_count))\n",
        "        return images[:int(image_count * pct)]\n",
        "        # return reshape(images, (image_count, column_count, row_count))\n",
        "\n",
        "def mnist_labels(fname:str, pct=1) -> list:\n",
        "    \"\"\" \n",
        "    Convert zip files into lists of labels. \n",
        "    Only returning pct percent of data.     \n",
        "    \"\"\"\n",
        "    with gzip.open('data/'+fname, 'r') as f:\n",
        "        # first 4 bytes is a magic number\n",
        "        magic_number = int.from_bytes(f.read(4), 'big')\n",
        "        # second 4 bytes is the number of labels\n",
        "        label_count = int.from_bytes(f.read(4), 'big')\n",
        "        # rest is the label data, each label is stored as unsigned byte\n",
        "        # label values are 0 to 9\n",
        "        label_data = f.read()\n",
        "        labels = list(label_data)\n",
        "        return labels[:int(label_count * pct)]"
      ],
      "execution_count": 74,
      "outputs": []
    },
    {
      "cell_type": "markdown",
      "metadata": {
        "id": "ekZbb9IDCMEn"
      },
      "source": [
        "Now, I am making a directory for all the data and putting data inside."
      ]
    },
    {
      "cell_type": "code",
      "metadata": {
        "id": "sx-n4pPN0IeG",
        "colab": {
          "base_uri": "https://localhost:8080/"
        },
        "outputId": "ff8d28e8-6a24-4b00-a30c-fe0ff88d77c2"
      },
      "source": [
        "# Todo: Change the code into using python pathlib library \n",
        "!mkdir data\n",
        "!mv train-images-idx3-ubyte.gz data\n",
        "!mv train-labels-idx1-ubyte.gz data\n",
        "!mv t10k-images-idx3-ubyte.gz data\n",
        "!mv t10k-labels-idx1-ubyte.gz data\n",
        "!ls data/"
      ],
      "execution_count": 75,
      "outputs": [
        {
          "output_type": "stream",
          "name": "stdout",
          "text": [
            "mkdir: cannot create directory ‘data’: File exists\n",
            "t10k-images-idx3-ubyte.gz  train-images-idx3-ubyte.gz\n",
            "t10k-labels-idx1-ubyte.gz  train-labels-idx1-ubyte.gz\n"
          ]
        }
      ]
    },
    {
      "cell_type": "markdown",
      "metadata": {
        "id": "p5N499k7bjpb"
      },
      "source": [
        "Now that we have the data we need, let's make this data more usable by using functions that I got above, such as mnist_images and mnist_labels. With mnist_images, I get numpy arrays of images, and with mnist_labels, I get numpy arrays with labels for each image. "
      ]
    },
    {
      "cell_type": "code",
      "metadata": {
        "id": "2C4IzaPy_gLT"
      },
      "source": [
        "py_imgs = mnist_images('train-images-idx3-ubyte.gz')\n",
        "py_train_labels = mnist_labels('train-labels-idx1-ubyte.gz')\n",
        "py_test_imgs = mnist_images('t10k-images-idx3-ubyte.gz')\n",
        "py_test_labels = mnist_labels('t10k-labels-idx1-ubyte.gz')"
      ],
      "execution_count": 76,
      "outputs": []
    },
    {
      "cell_type": "markdown",
      "metadata": {
        "id": "FcyxJRk4wD1P"
      },
      "source": [
        "Now that we have numpy arrays of images and labels, we can convert those into python lists."
      ]
    },
    {
      "cell_type": "code",
      "metadata": {
        "colab": {
          "base_uri": "https://localhost:8080/"
        },
        "id": "te75T-OcDp3r",
        "outputId": "5f5d92ae-334e-485c-e057-e61da2f8448a"
      },
      "source": [
        "type(py_imgs[0])"
      ],
      "execution_count": 77,
      "outputs": [
        {
          "output_type": "execute_result",
          "data": {
            "text/plain": [
              "list"
            ]
          },
          "metadata": {},
          "execution_count": 77
        }
      ]
    },
    {
      "cell_type": "code",
      "metadata": {
        "colab": {
          "base_uri": "https://localhost:8080/"
        },
        "id": "EdthMy4xDun0",
        "outputId": "0739f5f5-b114-41c4-91d4-b2f4c1034fe0"
      },
      "source": [
        "type(py_imgs[0][0])"
      ],
      "execution_count": 78,
      "outputs": [
        {
          "output_type": "execute_result",
          "data": {
            "text/plain": [
              "int"
            ]
          },
          "metadata": {},
          "execution_count": 78
        }
      ]
    },
    {
      "cell_type": "code",
      "metadata": {
        "colab": {
          "base_uri": "https://localhost:8080/"
        },
        "id": "ZEvjdSwbwv4o",
        "outputId": "a3bd114f-ab86-4a1d-f9f5-2dd1be1bb3c0"
      },
      "source": [
        "type(py_imgs), type(py_train_labels)"
      ],
      "execution_count": 79,
      "outputs": [
        {
          "output_type": "execute_result",
          "data": {
            "text/plain": [
              "(list, list)"
            ]
          },
          "metadata": {},
          "execution_count": 79
        }
      ]
    },
    {
      "cell_type": "markdown",
      "metadata": {
        "id": "Q0F50xpxu5kh"
      },
      "source": [
        "## Data preperation"
      ]
    },
    {
      "cell_type": "markdown",
      "metadata": {
        "id": "yNP5aO5lvH6D"
      },
      "source": [
        "Now that we have some tools to work with, we can prepare our data for training. First, we will reshape our data. Even if we are not using GPU to train, it is still fun to reshape them. Then, we divide our data by 255 because the highest value is 255."
      ]
    },
    {
      "cell_type": "code",
      "metadata": {
        "colab": {
          "base_uri": "https://localhost:8080/"
        },
        "id": "3DNkZ7opV0sm",
        "outputId": "5f4bb8c3-685f-4cf2-b5c1-6b9a53d9dcb7"
      },
      "source": [
        "py_imgs = map_mat2(lambda x: x / 255, py_imgs)\n",
        "py_test_imgs = map_mat2(lambda x: x / 255, py_test_imgs)\n",
        "shape(py_imgs), shape(py_test_imgs)"
      ],
      "execution_count": 80,
      "outputs": [
        {
          "output_type": "execute_result",
          "data": {
            "text/plain": [
              "((60000, 784), (10000, 784))"
            ]
          },
          "metadata": {},
          "execution_count": 80
        }
      ]
    },
    {
      "cell_type": "markdown",
      "metadata": {
        "id": "FGcOACdN1qcd"
      },
      "source": [
        "We have a dataset now. Nowe we can:\n",
        "\n",
        "- Train with dataset.\n",
        "- Get predictions and find loss.\n",
        "- Get metrics.\n",
        "- Get gradients and update parameters (weight and bias)."
      ]
    },
    {
      "cell_type": "markdown",
      "metadata": {
        "id": "nzn9nF3VvGy_"
      },
      "source": [
        "## Matrix multiplication"
      ]
    },
    {
      "cell_type": "markdown",
      "metadata": {
        "id": "J5YZMmARvxVq"
      },
      "source": [
        "Now that we have a dataset, it is time to look at matrix multiplication, which is the most important operation in deep learning. First, we initialize weights and bias."
      ]
    },
    {
      "cell_type": "code",
      "metadata": {
        "id": "WLRugtWl_NJo"
      },
      "source": [
        "x = lst_random((200,100))"
      ],
      "execution_count": 81,
      "outputs": []
    },
    {
      "cell_type": "code",
      "metadata": {
        "colab": {
          "base_uri": "https://localhost:8080/"
        },
        "id": "-Uvs_guYE8aL",
        "outputId": "53d57877-73b6-489e-e3ed-4bd19f39e341"
      },
      "source": [
        "x[1][:5]"
      ],
      "execution_count": 82,
      "outputs": [
        {
          "output_type": "execute_result",
          "data": {
            "text/plain": [
              "[-0.8688272654033332,\n",
              " 1.8085790495269864,\n",
              " -0.25877003105563723,\n",
              " 0.567414088587352,\n",
              " 0.6784608990427029]"
            ]
          },
          "metadata": {},
          "execution_count": 82
        }
      ]
    },
    {
      "cell_type": "markdown",
      "metadata": {
        "id": "P5UBl8En3vfB"
      },
      "source": [
        "If shape is (2,3):\n",
        "[[1,1,1],\n",
        " [1,1,1]]\n",
        " Also, if matrix multiplication between (2, 3) and (3, 4) should be (2, 4)"
      ]
    },
    {
      "cell_type": "code",
      "metadata": {
        "id": "D2cP3gy56C20"
      },
      "source": [
        "def py_matmul(a,b):\n",
        "    \"Needs some speed ups\"\n",
        "    ar,ac = len(a),len(a[0])\n",
        "    br,bc = len(b),len(b[0])\n",
        "    assert ac == br, f'Size of ar ({ac}) does not match br ({br}).'\n",
        "    c = lst_nums((ar, bc), 0)\n",
        "    for i in range(ar):\n",
        "         for j in range(bc):\n",
        "             for z in range(ac):\n",
        "                 c[i][j] += a[i][z] * b[z][j]\n",
        "    return c"
      ],
      "execution_count": 83,
      "outputs": []
    },
    {
      "cell_type": "code",
      "metadata": {
        "id": "TSBOXaMki6d3"
      },
      "source": [
        "m1 = [[1,2],[3,4]]\n",
        "m2 = [[2,3],[4,5]]\n",
        "m5 = [[1,2,3,4],[5,6]]"
      ],
      "execution_count": 84,
      "outputs": []
    },
    {
      "cell_type": "code",
      "metadata": {
        "colab": {
          "base_uri": "https://localhost:8080/"
        },
        "id": "Q8nr9uqvk3IB",
        "outputId": "14501642-de1d-4022-cb56-bbca72d01c13"
      },
      "source": [
        "py_matmul(m1,m2)"
      ],
      "execution_count": 85,
      "outputs": [
        {
          "output_type": "execute_result",
          "data": {
            "text/plain": [
              "[[10, 13], [22, 29]]"
            ]
          },
          "metadata": {},
          "execution_count": 85
        }
      ]
    },
    {
      "cell_type": "markdown",
      "metadata": {
        "id": "p4nt9ZFvk-oc"
      },
      "source": [
        "This is not "
      ]
    },
    {
      "cell_type": "code",
      "metadata": {
        "id": "9i5HvFJ0o2Oz"
      },
      "source": [
        "ml1 = lst_random((784, 100))\n",
        "ml2 = lst_random((100, 10))"
      ],
      "execution_count": 86,
      "outputs": []
    },
    {
      "cell_type": "markdown",
      "metadata": {
        "id": "VnwMKaQ-8FNz"
      },
      "source": [
        "It works, but it is slow. We can make it faster by getting rid of for loop."
      ]
    },
    {
      "cell_type": "code",
      "metadata": {
        "id": "29f6YTv5RgIk"
      },
      "source": [
        "# %timeit -n 20 py_matmul(ml1, ml2)"
      ],
      "execution_count": 87,
      "outputs": []
    },
    {
      "cell_type": "code",
      "metadata": {
        "id": "UBAb5ZW428cM"
      },
      "source": [
        "def col_mat (mat:list, col:int) -> list:\n",
        "    \"Get a column of a matrix.\"\n",
        "    return [m[col] for m in mat]"
      ],
      "execution_count": 88,
      "outputs": []
    },
    {
      "cell_type": "code",
      "metadata": {
        "id": "nDBZi688z3uH"
      },
      "source": [
        "def py_matmul2(a,b):\n",
        "    \"Use sum function\"\n",
        "    ar,ac = len(a),len(a[0])\n",
        "    br,bc = len(b),len(b[0])\n",
        "    assert ac == br, f'Size of ar ({ac}) does not match br ({br}).'\n",
        "    c = lst_nums((ar, bc), 0)\n",
        "    for i in range(ar):\n",
        "         for j in range(bc):\n",
        "             c[i][j] = sum(elementwise(op.mul, a[i], col_mat(b,j)))\n",
        "    return c"
      ],
      "execution_count": 89,
      "outputs": []
    },
    {
      "cell_type": "code",
      "metadata": {
        "colab": {
          "base_uri": "https://localhost:8080/"
        },
        "id": "8R4d_wQU4_59",
        "outputId": "27da1ab4-4e0e-4b02-a7e8-4adec82349e4"
      },
      "source": [
        "py_matmul2(m1, m2)"
      ],
      "execution_count": 90,
      "outputs": [
        {
          "output_type": "execute_result",
          "data": {
            "text/plain": [
              "[[10, 13], [22, 29]]"
            ]
          },
          "metadata": {},
          "execution_count": 90
        }
      ]
    },
    {
      "cell_type": "markdown",
      "metadata": {
        "id": "ijkeW5WJRnj5"
      },
      "source": [
        "Using two for loops is faster than using three. "
      ]
    },
    {
      "cell_type": "code",
      "metadata": {
        "id": "W44qk9EU5u6G"
      },
      "source": [
        "# %timeit -n 20 py_matmul2(ml1, ml2)"
      ],
      "execution_count": 91,
      "outputs": []
    },
    {
      "cell_type": "code",
      "metadata": {
        "id": "u3BXOZy4lmyn"
      },
      "source": [
        "def py_matmul3(a, b):\n",
        "    ar,ac = len(a),len(a[0])\n",
        "    br,bc = len(b),len(b[0])\n",
        "    assert ac == br, f'Size of ar ({ac}) does not match br ({br}).'\n",
        "    c = lst_nums((ar, bc), 0)\n",
        "    for i in range(ar):\n",
        "        c[i] = [sum(elementwise(op.mul, a[i], col_mat(b,j))) for j in range(bc)]\n",
        "    return c"
      ],
      "execution_count": 92,
      "outputs": []
    },
    {
      "cell_type": "code",
      "metadata": {
        "colab": {
          "base_uri": "https://localhost:8080/"
        },
        "id": "m71-qN9jm6aH",
        "outputId": "36907ad9-ad12-417c-a2dd-c6a276070c0c"
      },
      "source": [
        "py_matmul3(m1, m2)"
      ],
      "execution_count": 93,
      "outputs": [
        {
          "output_type": "execute_result",
          "data": {
            "text/plain": [
              "[[10, 13], [22, 29]]"
            ]
          },
          "metadata": {},
          "execution_count": 93
        }
      ]
    },
    {
      "cell_type": "code",
      "metadata": {
        "id": "kOLTvbGCm9Kd"
      },
      "source": [
        "# %timeit -n 20 py_matmul3(ml1, ml2)"
      ],
      "execution_count": 94,
      "outputs": []
    },
    {
      "cell_type": "code",
      "metadata": {
        "id": "tRgtz8_sqrKv"
      },
      "source": [
        "# %prun py_matmul3(ml1, ml2)"
      ],
      "execution_count": 95,
      "outputs": []
    },
    {
      "cell_type": "markdown",
      "metadata": {
        "id": "BlofuQVjlytn"
      },
      "source": [
        "Even with reducing it to one loop, we did not really gain much speed. After using prun, we can see that elementwise is using a lot of time. We can probably get away without using elemtwise to achieve matrix multiplication."
      ]
    },
    {
      "cell_type": "code",
      "metadata": {
        "id": "McdYMU_brQEV"
      },
      "source": [
        "def py_matmul4(a, b):\n",
        "    ar,ac = len(a),len(a[0])\n",
        "    br,bc = len(b),len(b[0])\n",
        "    assert ac == br, f'Size of ar ({ac}) does not match br ({br}).'\n",
        "    c = lst_nums((ar, bc), 0)\n",
        "    t = transpose(b)\n",
        "    for i in range(ar):\n",
        "        c[i] = [sum(map(lambda x: x[0] * x[1], zip(a[i], (t[j])))) for j in range(bc)]\n",
        "    return c"
      ],
      "execution_count": 96,
      "outputs": []
    },
    {
      "cell_type": "code",
      "metadata": {
        "colab": {
          "base_uri": "https://localhost:8080/"
        },
        "id": "eP_qVNLo0sz6",
        "outputId": "30531c11-e253-44a1-e73d-234aa7b31e84"
      },
      "source": [
        "py_matmul4(m1, m2)"
      ],
      "execution_count": 97,
      "outputs": [
        {
          "output_type": "execute_result",
          "data": {
            "text/plain": [
              "[[10, 13], [22, 29]]"
            ]
          },
          "metadata": {},
          "execution_count": 97
        }
      ]
    },
    {
      "cell_type": "markdown",
      "metadata": {
        "id": "ogdhVnuG6cGy"
      },
      "source": [
        "Without elementwise, we gained some speed compared to other versions. "
      ]
    },
    {
      "cell_type": "code",
      "metadata": {
        "id": "Kpazunar3JXL"
      },
      "source": [
        "# %timeit -n 20 py_matmul4(ml1, ml2)"
      ],
      "execution_count": 98,
      "outputs": []
    },
    {
      "cell_type": "code",
      "metadata": {
        "id": "GriCM9xj3eT4"
      },
      "source": [
        "# %prun py_matmul4(ml1, ml2)"
      ],
      "execution_count": 99,
      "outputs": []
    },
    {
      "cell_type": "markdown",
      "metadata": {
        "id": "DFI2_Wj972nX"
      },
      "source": [
        "I am still not satisfied with the result yet. I am sure we can do better. Let's get some help from itertools."
      ]
    },
    {
      "cell_type": "markdown",
      "metadata": {
        "id": "7zSbjlsuGGHF"
      },
      "source": [
        "Default sum takes the longest time to execute now, but it is faster option we have, compared to using for loop or reduce function."
      ]
    },
    {
      "cell_type": "code",
      "metadata": {
        "id": "Ju4_4Qp38CA9"
      },
      "source": [
        "def py_matmul5(a, b):\n",
        "    ar,ac = len(a),len(a[0])\n",
        "    br,bc = len(b),len(b[0])\n",
        "    assert ac == br, f'Size of ar ({ac}) does not match br ({br}).'\n",
        "    c = lst_nums((ar, bc), 0)\n",
        "    t = transpose(b)\n",
        "    for i in range(ar):\n",
        "        # c[i] = [sum(itertools.starmap(op.mul, zip(a[i], (t[j])))) for j in range(bc)]\n",
        "        c[i] = [sum(map(op.mul, a[i], t[j])) for j in range(bc)]\n",
        "    return c"
      ],
      "execution_count": 100,
      "outputs": []
    },
    {
      "cell_type": "code",
      "metadata": {
        "colab": {
          "base_uri": "https://localhost:8080/"
        },
        "id": "kMV10ECl8MwK",
        "outputId": "8bf404f0-b407-4d2e-90eb-9e9892e909b3"
      },
      "source": [
        "py_matmul5(m1, m2)"
      ],
      "execution_count": 101,
      "outputs": [
        {
          "output_type": "execute_result",
          "data": {
            "text/plain": [
              "[[10, 13], [22, 29]]"
            ]
          },
          "metadata": {},
          "execution_count": 101
        }
      ]
    },
    {
      "cell_type": "code",
      "metadata": {
        "id": "NVqLUF6YA8Mv"
      },
      "source": [
        "# %timeit -n 20 py_matmul5(ml1, ml2)"
      ],
      "execution_count": 102,
      "outputs": []
    },
    {
      "cell_type": "code",
      "metadata": {
        "id": "kxEF6QOv8N7f"
      },
      "source": [
        "# %timeit -n 20 py_matmul5(ml1, ml2)"
      ],
      "execution_count": 103,
      "outputs": []
    },
    {
      "cell_type": "code",
      "metadata": {
        "id": "avVzSmjW8Sds"
      },
      "source": [
        "# %prun py_matmul5(ml1, ml2)"
      ],
      "execution_count": 104,
      "outputs": []
    },
    {
      "cell_type": "code",
      "metadata": {
        "colab": {
          "base_uri": "https://localhost:8080/"
        },
        "id": "1CfHGMGx99W2",
        "outputId": "f1b2d4b9-0413-454c-eb2f-e0940efe952a"
      },
      "source": [
        "sum_test = list(range(10_000_000))\n",
        "len(sum_test)"
      ],
      "execution_count": 105,
      "outputs": [
        {
          "output_type": "execute_result",
          "data": {
            "text/plain": [
              "10000000"
            ]
          },
          "metadata": {},
          "execution_count": 105
        }
      ]
    },
    {
      "cell_type": "code",
      "metadata": {
        "id": "zLMwnbsR9t6b"
      },
      "source": [
        "# %timeit -n 20 sum(sum_test)"
      ],
      "execution_count": 106,
      "outputs": []
    },
    {
      "cell_type": "code",
      "metadata": {
        "id": "bJFgSICU-Ws3"
      },
      "source": [
        "def reduce_sum(lst):\n",
        "    return functools.reduce(op.add, lst)"
      ],
      "execution_count": 107,
      "outputs": []
    },
    {
      "cell_type": "code",
      "metadata": {
        "id": "cbTo7cNT-sjk"
      },
      "source": [
        "# %timeit -n 20 reduce_sum(sum_test)"
      ],
      "execution_count": 108,
      "outputs": []
    },
    {
      "cell_type": "code",
      "metadata": {
        "id": "MpakoGoi-vbN"
      },
      "source": [
        "# %prun reduce_sum(sum_test)"
      ],
      "execution_count": 109,
      "outputs": []
    },
    {
      "cell_type": "code",
      "metadata": {
        "id": "VINENXjF_5yQ"
      },
      "source": [
        "def for_sum(lst):\n",
        "    res = 0\n",
        "    for i in range(len(lst)):\n",
        "        res += lst[i]\n",
        "    return res"
      ],
      "execution_count": 110,
      "outputs": []
    },
    {
      "cell_type": "code",
      "metadata": {
        "id": "5f6YrMu1BpeB"
      },
      "source": [
        "# %timeit -n 20 for_sum(sum_test)"
      ],
      "execution_count": 111,
      "outputs": []
    },
    {
      "cell_type": "markdown",
      "metadata": {
        "id": "SWRMRkvsxvj3"
      },
      "source": [
        "## Time to start initializing stuff"
      ]
    },
    {
      "cell_type": "markdown",
      "metadata": {
        "id": "OGDAEjw3_JI8"
      },
      "source": [
        "Using Kaiming init. With Kaiming init, we get a head start compared to using just random numbers."
      ]
    },
    {
      "cell_type": "code",
      "metadata": {
        "id": "ztld9OD3hzPB"
      },
      "source": [
        "sample = lst_random((200, 100), True)\n",
        "# x = map_mat(lambda x: x*0.1, x)\n",
        "# statistics.stdev(x[0])"
      ],
      "execution_count": 112,
      "outputs": []
    },
    {
      "cell_type": "markdown",
      "metadata": {
        "id": "YQsr5tku--ge"
      },
      "source": [
        "Checking whether the initialization works. Standard deviation should equal to sqrt(2/n_in), and mean should be 0. And this works. With this initialization, we can train deeper layers. For more information, paper is [here](https://arxiv.org/abs/1502.01852)."
      ]
    },
    {
      "cell_type": "code",
      "metadata": {
        "id": "lvVUj1eaIuhu"
      },
      "source": [
        "def check_dist(x):\n",
        "    for i in range(len(x)//10):\n",
        "        print(statistics.stdev(x[i]), statistics.mean(x[i]))"
      ],
      "execution_count": 113,
      "outputs": []
    },
    {
      "cell_type": "code",
      "metadata": {
        "colab": {
          "base_uri": "https://localhost:8080/"
        },
        "id": "BbpBLETEO4cQ",
        "outputId": "c8f4af21-2de6-4b89-c0cc-85aa282e8019"
      },
      "source": [
        "math.sqrt(2/200)"
      ],
      "execution_count": 114,
      "outputs": [
        {
          "output_type": "execute_result",
          "data": {
            "text/plain": [
              "0.1"
            ]
          },
          "metadata": {},
          "execution_count": 114
        }
      ]
    },
    {
      "cell_type": "code",
      "metadata": {
        "colab": {
          "base_uri": "https://localhost:8080/"
        },
        "id": "WtlWLZviOaNI",
        "outputId": "9d776faa-add2-4ede-c32b-0fbfca5bbd5a"
      },
      "source": [
        "statistics.variance(sample[0])"
      ],
      "execution_count": 115,
      "outputs": [
        {
          "output_type": "execute_result",
          "data": {
            "text/plain": [
              "0.01166835954392622"
            ]
          },
          "metadata": {},
          "execution_count": 115
        }
      ]
    },
    {
      "cell_type": "code",
      "metadata": {
        "id": "VbdpIc97lNX5",
        "colab": {
          "base_uri": "https://localhost:8080/"
        },
        "outputId": "64323b10-edba-470a-f5cb-77a8d1d86cab"
      },
      "source": [
        "check_dist(sample)"
      ],
      "execution_count": 116,
      "outputs": [
        {
          "output_type": "stream",
          "name": "stdout",
          "text": [
            "0.10802018118817529 0.006734839580310397\n",
            "0.09979066438587844 0.008812399914570862\n",
            "0.09561800666605291 0.0036588102360581225\n",
            "0.10630479135367477 -0.003487502532153677\n",
            "0.09248731188956884 -0.009716265930764214\n",
            "0.08925164982494319 0.002461174983794089\n",
            "0.09004779828472535 -0.0047740753157285735\n",
            "0.09183294992947737 -0.002294291735614679\n",
            "0.0902206946359696 0.011964423567947129\n",
            "0.09353365911746268 -0.00776034955964066\n",
            "0.09540527003917385 -0.017395048783590796\n",
            "0.09288727053265064 -0.00665843034626196\n",
            "0.09575932256030731 0.007674404406812508\n",
            "0.09784941208555885 -0.01227295035912054\n",
            "0.08019985251384976 0.019423068155842046\n",
            "0.10362223714698182 -0.0006158280838981295\n",
            "0.10775417796667473 0.004915882944669266\n",
            "0.11004148373690859 0.004351874578332842\n",
            "0.10544010038322081 0.015143645961911966\n",
            "0.08509549758228865 0.005024562216006507\n"
          ]
        }
      ]
    },
    {
      "cell_type": "code",
      "metadata": {
        "colab": {
          "base_uri": "https://localhost:8080/"
        },
        "id": "R4OTquwptG-l",
        "outputId": "1eaf6281-567d-4a88-fab8-56afbb73b8d0"
      },
      "source": [
        "shape(m1), shape(m2)"
      ],
      "execution_count": 117,
      "outputs": [
        {
          "output_type": "execute_result",
          "data": {
            "text/plain": [
              "((2, 2), (2, 2))"
            ]
          },
          "metadata": {},
          "execution_count": 117
        }
      ]
    },
    {
      "cell_type": "markdown",
      "metadata": {
        "id": "J8NFy61QMtjX"
      },
      "source": [
        "## Model"
      ]
    },
    {
      "cell_type": "markdown",
      "metadata": {
        "id": "BY_d1J1y6JFr"
      },
      "source": [
        "Now, it is time to diverge from using classes."
      ]
    },
    {
      "cell_type": "code",
      "metadata": {
        "id": "BN5KR--3H89h"
      },
      "source": [
        "def relu(old_x):\n",
        "    return 0 if old_x < 0 else old_x"
      ],
      "execution_count": 118,
      "outputs": []
    },
    {
      "cell_type": "code",
      "metadata": {
        "id": "OAec8bDYXDbq"
      },
      "source": [
        "def relu_b (old_x, grad):\n",
        "    return grad if old_x > 0 else 0"
      ],
      "execution_count": 119,
      "outputs": []
    },
    {
      "cell_type": "code",
      "metadata": {
        "id": "rkY36gWeylOc"
      },
      "source": [
        "def softmax (inp):\n",
        "    mat = map_mat2(math.exp, inp)\n",
        "    res = []\n",
        "    for i in range(len(mat)):\n",
        "        s = sum(mat[i])\n",
        "        res.append([x/s for x in mat[i]])\n",
        "    return res"
      ],
      "execution_count": 120,
      "outputs": []
    },
    {
      "cell_type": "code",
      "metadata": {
        "id": "4QU7PZk2XTvP"
      },
      "source": [
        "def softmax_b(old_y, grad):\n",
        "    res = elementwise(op.mul, old_y, grad)\n",
        "    res = [sum(res[i]) for i in range(len(old_y))] # shape is (64,)\n",
        "    return elementwise(op.mul, old_y, elementwise(op.sub, grad, res))"
      ],
      "execution_count": 121,
      "outputs": []
    },
    {
      "cell_type": "code",
      "metadata": {
        "id": "7A0lCb-FLIcR"
      },
      "source": [
        "def crossentropyloss(inp, targ): \n",
        "    mat = inp\n",
        "    res = []\n",
        "    for i in range(len(mat)):\n",
        "        for j in range(len(targ[0])):\n",
        "            if targ[i][j] == 1:\n",
        "                res.append(-math.log(mat[i][j]))\n",
        "    return res  "
      ],
      "execution_count": 122,
      "outputs": []
    },
    {
      "cell_type": "code",
      "metadata": {
        "id": "LE3nHbbeXKQz"
      },
      "source": [
        "def crossen_b(old_x, old_y):\n",
        "    mat = map_mat2(lambda x: x if x>1e-8 else 1e-8, old_x)\n",
        "    res = lst_nums(shape(old_x), num=0.)\n",
        "    for i in range(len(mat)):\n",
        "        for j in range(len(old_y[0])):\n",
        "            if old_y[i][j] == 1:\n",
        "                res[i][j] = (-1/(mat[i][j]))\n",
        "    return res"
      ],
      "execution_count": 123,
      "outputs": []
    },
    {
      "cell_type": "code",
      "metadata": {
        "id": "BoUDnxnh6rYZ"
      },
      "source": [
        "def linear(x, w, b):\n",
        "    return elementwise(lambda x,y: x+y, py_matmul5(x, w), b)"
      ],
      "execution_count": 124,
      "outputs": []
    },
    {
      "cell_type": "code",
      "metadata": {
        "id": "_L8Tf41MXh3y"
      },
      "source": [
        "def linear_b(old_x, w, grad):\n",
        "    grad_b = mean_0(grad)\n",
        "    grad_w = py_matmul5(transpose(old_x), grad)\n",
        "    out = py_matmul5(grad, transpose(w))\n",
        "    return out, grad_w, grad_b"
      ],
      "execution_count": 125,
      "outputs": []
    },
    {
      "cell_type": "code",
      "metadata": {
        "id": "5qA9xrMZhUAC"
      },
      "source": [
        "def mean_0 (matrix):\n",
        "    \"Find a mean in matrix over 0 axis\"\n",
        "    return [statistics.mean([m[i] for m in matrix]) for i in range(len(matrix[0]))]"
      ],
      "execution_count": 126,
      "outputs": []
    },
    {
      "cell_type": "markdown",
      "metadata": {
        "id": "DeQdGA-kBkQk"
      },
      "source": [
        "## Data Loader"
      ]
    },
    {
      "cell_type": "markdown",
      "metadata": {
        "id": "kHu09Lu6Bmy3"
      },
      "source": [
        "Now, we will take mini bathces of data with batch size and train. "
      ]
    },
    {
      "cell_type": "code",
      "metadata": {
        "id": "Iit3S0njJDwM"
      },
      "source": [
        "def prep_data(size):\n",
        "    xb = py_imgs[:size]\n",
        "    yb = lst_nums((size, 10), 0)\n",
        "    yb_vals = py_train_labels[:size]\n",
        "    for i in range(size):\n",
        "        yb[i][yb_vals[i]] = 1\n",
        "    return xb, yb    "
      ],
      "execution_count": 127,
      "outputs": []
    },
    {
      "cell_type": "code",
      "metadata": {
        "id": "y3AL0lanN_t2",
        "colab": {
          "base_uri": "https://localhost:8080/"
        },
        "outputId": "982f4cac-1ebc-46b3-856c-56ec6368ca9a"
      },
      "source": [
        "x, y = prep_data(25600)\n",
        "shape(x), shape(y)"
      ],
      "execution_count": 128,
      "outputs": [
        {
          "output_type": "execute_result",
          "data": {
            "text/plain": [
              "((25600, 784), (25600, 10))"
            ]
          },
          "metadata": {},
          "execution_count": 128
        }
      ]
    },
    {
      "cell_type": "code",
      "metadata": {
        "id": "DpUu5kKr-Z0F"
      },
      "source": [
        "def forward_and_backward(inp, targ, w1, b1, w2, b2):\n",
        "    # Forward pass\n",
        "    l1 = linear(inp,w1,b1)\n",
        "    l2 = map_mat2(relu, l1)\n",
        "    sm_old_y = linear(l2,w2,b2)\n",
        "    cel_old_x = softmax(sm_old_y)\n",
        "    cel_old_x = map_mat2(lambda x: x if x>1e-8 else 1e-8, cel_old_x)\n",
        "\n",
        "    # Calculate loss\n",
        "    loss = crossentropyloss(cel_old_x, targ)\n",
        "    total_loss = sum(loss) / len(targ)\n",
        "\n",
        "    # Backward pass\n",
        "    grad = crossen_b(cel_old_x, targ)       \n",
        "    grad = softmax_b(cel_old_x,grad)\n",
        "    grad, grad_w2, grad_b2 = linear_b(l2,w2,grad)\n",
        "    grad = elementwise(relu_b,l1,grad)      \n",
        "    grad, grad_w1, grad_b1 = linear_b(inp,w1,grad)\n",
        "\n",
        "    return (grad_w1, grad_b1, grad_w2, grad_b2), total_loss, w1, b1, w2, b2"
      ],
      "execution_count": 129,
      "outputs": []
    },
    {
      "cell_type": "code",
      "metadata": {
        "id": "SFyRntGyFNLJ"
      },
      "source": [
        "def make_prediction(inp, w1, b1, w2, b2):\n",
        "    inp = reshape(inp, (1, 784))\n",
        "    l1 = linear(inp,w1,b1)\n",
        "    l2 = map_mat2(relu, l1)\n",
        "    sm_old_y = linear(l2,w2,b2)\n",
        "    result = softmax(sm_old_y)\n",
        "    result = result[0]\n",
        "    return result.index(max(result))"
      ],
      "execution_count": 130,
      "outputs": []
    },
    {
      "cell_type": "code",
      "metadata": {
        "id": "F_vbUcbsmB0z"
      },
      "source": [
        "w1 = lst_random((784, 56), True)\n",
        "w2 = lst_random((56, 10), True)\n",
        "b1 = lst_nums(56, 0)\n",
        "b2 = lst_nums(10, 0)\n",
        "wbs = (w1, b1, w2, b2)"
      ],
      "execution_count": 131,
      "outputs": []
    },
    {
      "cell_type": "markdown",
      "metadata": {
        "id": "65fMc68CeBjp"
      },
      "source": [
        "## Time to train"
      ]
    },
    {
      "cell_type": "markdown",
      "metadata": {
        "id": "b9_BLb3DJlEt"
      },
      "source": [
        "With our data set, it took me about five minutes to run on google colab."
      ]
    },
    {
      "cell_type": "code",
      "metadata": {
        "id": "dEm8KdTHgMQd"
      },
      "source": [
        "def train (n, x=x, y=y, bs=64, lr=0.01):\n",
        "    \"\"\"\n",
        "    Train n times and return weights and biases\n",
        "    \"\"\"\n",
        "    # Initialize weights and biases\n",
        "    w1 = lst_random((784, 56), True)\n",
        "    w2 = lst_random((56, 10), True)\n",
        "    b1 = lst_nums(56, 0)\n",
        "    b2 = lst_nums(10, 0)\n",
        "    wbs = (w1, b1, w2, b2)\n",
        "    for i in range(n):\n",
        "        for j in range(len(x) // bs):\n",
        "            xb = x[j*bs:(j+1)*bs]\n",
        "            yb = y[j*bs:(j+1)*bs]\n",
        "            # Do a forward and backward then get grad\n",
        "            grads, loss, w1, b1, w2, b2 = forward_and_backward(xb, yb, w1, b1, w2, b2)\n",
        "            # multiply grads with lr and update weights and biases\n",
        "            grads = [map_mat(lambda x: x*lr, mat) for mat in grads]\n",
        "            w1 = elementwise(op.sub, w1, grads[0])\n",
        "            b1 = elementwise(op.sub, b1, grads[1])\n",
        "            w2 = elementwise(op.sub, w2, grads[2])\n",
        "            b2 = elementwise(op.sub, b2, grads[3])  \n",
        "            if j % 50 == 0:\n",
        "                accuracy = len(list(filter(None, [make_prediction(py_test_imgs[i], w1, b1, w2, b2) == py_test_labels[i] for i in range(100)])))\n",
        "                print(f\"    Batch #{j} with Loss is {loss}, Accuracy is {accuracy}%\")\n",
        "        print(f\"Epoch:{i+1} / {n}    Loss is {loss}, Accuracy is {accuracy}%\")\n",
        "    return (w1, b1, w2, b2)"
      ],
      "execution_count": 132,
      "outputs": []
    },
    {
      "cell_type": "code",
      "metadata": {
        "id": "d94Ek2iohS3Q",
        "colab": {
          "base_uri": "https://localhost:8080/"
        },
        "outputId": "b785fdbb-4df2-445d-8a56-0a7513f3ecd2"
      },
      "source": [
        "w1, b1, w2, b2 = train(1, lr=0.01)"
      ],
      "execution_count": 133,
      "outputs": [
        {
          "output_type": "stream",
          "name": "stdout",
          "text": [
            "    Batch #0 with Loss is 2.475803253480892, Accuracy is 23%\n",
            "    Batch #50 with Loss is 0.3799100496437877, Accuracy is 84%\n",
            "    Batch #100 with Loss is 0.301192444492659, Accuracy is 85%\n",
            "    Batch #150 with Loss is 0.1791625203831289, Accuracy is 88%\n",
            "    Batch #200 with Loss is 0.31264124488813166, Accuracy is 92%\n",
            "    Batch #250 with Loss is 0.6165029402332128, Accuracy is 92%\n",
            "    Batch #300 with Loss is 0.3882126307826228, Accuracy is 92%\n",
            "    Batch #350 with Loss is 0.1822258815469942, Accuracy is 97%\n",
            "Epoch:1 / 1    Loss is 0.2832947414296976, Accuracy is 97%\n"
          ]
        }
      ]
    },
    {
      "cell_type": "markdown",
      "metadata": {
        "id": "SmQc8cDFXoR3"
      },
      "source": [
        "This approach is not as expandable and flexible as class approach. I could have written as packages of functions consisting forward and backward versions. Then, dispatch either backward or forward depending on the type we need to call. We do not need a functionality of classes or objects in order to write code in objective style. I will rewrite this code later in that manner."
      ]
    }
  ]
}