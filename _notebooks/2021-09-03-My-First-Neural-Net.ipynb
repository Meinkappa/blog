{
  "nbformat": 4,
  "nbformat_minor": 0,
  "metadata": {
    "colab": {
      "name": "Mnist_Python2.ipynb",
      "provenance": [],
      "collapsed_sections": []
    },
    "kernelspec": {
      "display_name": "Python 3",
      "name": "python3"
    }
  },
  "cells": [
    {
      "cell_type": "markdown",
      "metadata": {
        "id": "2rrtRAkL3p_Y"
      },
      "source": [
        "# Deep learning with standard Python"
      ]
    },
    {
      "cell_type": "markdown",
      "metadata": {
        "id": "CeOPKvmxyJG9"
      },
      "source": [
        "Here, we will be traing a deep learning model with only Python. The only 3rd party libary I will be using is matplotlib to show images. It is obviously not meant to train a state of the art model or a production model. Instead, we will explore what it means to train a model using MNIST handwritten dataset. When I was reading a [blog post](https://sgugger.github.io/a-simple-neural-net-in-numpy.html#a-simple-neural-net-in-numpy) from Sylvain Gugger called, \"A simple neural net in numpy,\" I found it interesting and wanted to try to write my version in standard Python. "
      ]
    },
    {
      "cell_type": "markdown",
      "metadata": {
        "id": "t9b7gBrPnZ6X"
      },
      "source": [
        "There are many libraries used for deep learning, such as Tensorflow and Keras, Pytorch, Scikit-Learn, numpy, and others. However, in order to understand basic concept of deep learning, we do no need to use any of these tools. "
      ]
    },
    {
      "cell_type": "markdown",
      "metadata": {
        "id": "Dd2OK2EYuBuS"
      },
      "source": [
        "Here are Python libraries I will be using. Other than matplotlib, all libraries are here:"
      ]
    },
    {
      "cell_type": "code",
      "metadata": {
        "id": "FUdSF1LI_ihk"
      },
      "source": [
        "import gzip                             # Converting zip into python objects\n",
        "import matplotlib.pyplot as plt         # Library for showing images\n",
        "import random                           # Initializing random weights\n",
        "import statistics                       # Getting mean or stdev\n",
        "import math                             # Exponential function\n",
        "import operator as op                   # just algebraic operators such as +, -, *, /\n",
        "import time                             # Timing for performance\n",
        "from functools import reduce"
      ],
      "execution_count": null,
      "outputs": []
    },
    {
      "cell_type": "code",
      "metadata": {
        "id": "8fV14V53V3ww"
      },
      "source": [
        "import numpy as np"
      ],
      "execution_count": null,
      "outputs": []
    },
    {
      "cell_type": "markdown",
      "metadata": {
        "id": "WeEFHBXRyolB"
      },
      "source": [
        "## Utilities"
      ]
    },
    {
      "cell_type": "markdown",
      "metadata": {
        "id": "EVqIin2ocZSm"
      },
      "source": [
        "This section can be skipped as you can understand how deep learning works without understanding how these utilities work. You can consider these as built-in functions or machine language blobs. Simply fold the heading and run it."
      ]
    },
    {
      "cell_type": "markdown",
      "metadata": {
        "id": "NL_G6tlCyu64"
      },
      "source": [
        "If you decided to dig into lower level of deep learning, let's begin. Because we are only using python lists, we need to build utilities or tools we need in order to train our model. With other fancy libraries, these are built-in. However, because we are building up from scratch, we start with those basic utilities that we will use later on. How these are implemented specifically are not important at all for our purpose of understanding how deep learning works. As long as you get the general idea of what these functions do, that is good enough. However, please do not just run those cells without thinking about what they will return in advance if you want to understand more. Give yourself couple seconds to think and come up with output in your head. This will change your level of understanding."
      ]
    },
    {
      "cell_type": "markdown",
      "metadata": {
        "id": "6njxdMPvv7iW"
      },
      "source": [
        "With those low level functions, we will build up abstraction layers. First, I start with `shape`, which returns a tuple of shape of a matrix or a list."
      ]
    },
    {
      "cell_type": "code",
      "metadata": {
        "id": "fVNEQEJNyIrB"
      },
      "source": [
        "def shape(matrix) -> tuple:\n",
        "    \"\"\" Get a shape of a matrix \"\"\"\n",
        "    def loop(mat, result):\n",
        "        if not isinstance(mat, list):\n",
        "            return result\n",
        "        else:\n",
        "            return loop(mat[0], result + (len(mat),))\n",
        "    return loop(matrix, tuple())"
      ],
      "execution_count": null,
      "outputs": []
    },
    {
      "cell_type": "code",
      "metadata": {
        "colab": {
          "base_uri": "https://localhost:8080/"
        },
        "id": "HjbCv6TPW8eS",
        "outputId": "a9dd5e4d-9fbd-4979-fb03-50e871abc8f3"
      },
      "source": [
        "shape([1, 2])"
      ],
      "execution_count": null,
      "outputs": [
        {
          "output_type": "execute_result",
          "data": {
            "text/plain": [
              "(2,)"
            ]
          },
          "metadata": {},
          "execution_count": 3
        }
      ]
    },
    {
      "cell_type": "code",
      "metadata": {
        "colab": {
          "base_uri": "https://localhost:8080/"
        },
        "id": "MxEcAKVBXTAF",
        "outputId": "36922bf8-9c65-4ae9-92c2-065f14dac6c4"
      },
      "source": [
        "shape([[1, 2, 3],\n",
        "       [4, 5, 6]])"
      ],
      "execution_count": null,
      "outputs": [
        {
          "output_type": "execute_result",
          "data": {
            "text/plain": [
              "(2, 3)"
            ]
          },
          "metadata": {},
          "execution_count": 4
        }
      ]
    },
    {
      "cell_type": "code",
      "metadata": {
        "colab": {
          "base_uri": "https://localhost:8080/"
        },
        "id": "DCoJtPW9XVex",
        "outputId": "73433510-8a54-4f09-db11-fc401874ff8c"
      },
      "source": [
        "shape([[[1, 2],\n",
        "        [3, 4]]])"
      ],
      "execution_count": null,
      "outputs": [
        {
          "output_type": "execute_result",
          "data": {
            "text/plain": [
              "(1, 2, 2)"
            ]
          },
          "metadata": {},
          "execution_count": 5
        }
      ]
    },
    {
      "cell_type": "markdown",
      "metadata": {
        "id": "jHT-j-Qi4tDu"
      },
      "source": [
        "It would be better if we can make matrices easier instead of making them by hand."
      ]
    },
    {
      "cell_type": "code",
      "metadata": {
        "id": "KzSsTWH10SPj"
      },
      "source": [
        "def lst_nums(shape:tuple, num:int=1) -> list:\n",
        "    \"\"\" Return a list of shape filled with num. \n",
        "        Default value for num is 1 \"\"\"\n",
        "    if isinstance(shape, tuple):\n",
        "        x, y = shape\n",
        "        return [[num]*y for _ in range(x)]\n",
        "    else:\n",
        "        x = shape\n",
        "        return [num]*x"
      ],
      "execution_count": null,
      "outputs": []
    },
    {
      "cell_type": "code",
      "metadata": {
        "colab": {
          "base_uri": "https://localhost:8080/"
        },
        "id": "t35ZwPwdbcD4",
        "outputId": "d7304ad4-6a9a-4cca-fb7f-bb3c55562709"
      },
      "source": [
        "lst_nums(1, 1)"
      ],
      "execution_count": null,
      "outputs": [
        {
          "output_type": "execute_result",
          "data": {
            "text/plain": [
              "[1]"
            ]
          },
          "metadata": {},
          "execution_count": 7
        }
      ]
    },
    {
      "cell_type": "code",
      "metadata": {
        "colab": {
          "base_uri": "https://localhost:8080/"
        },
        "id": "kloNTeasf1pF",
        "outputId": "7ee86a51-ebe7-416b-d5be-369a5e43ab0f"
      },
      "source": [
        "hund_1s = lst_nums((10, 10), 1)\n",
        "len(hund_1s), len(hund_1s[0])"
      ],
      "execution_count": null,
      "outputs": [
        {
          "output_type": "execute_result",
          "data": {
            "text/plain": [
              "(10, 10)"
            ]
          },
          "metadata": {},
          "execution_count": 8
        }
      ]
    },
    {
      "cell_type": "code",
      "metadata": {
        "colab": {
          "base_uri": "https://localhost:8080/"
        },
        "id": "ms10jgtPmQdR",
        "outputId": "a04bf86c-7d1b-48f0-b65e-75cd0582860c"
      },
      "source": [
        "hund_1s"
      ],
      "execution_count": null,
      "outputs": [
        {
          "output_type": "execute_result",
          "data": {
            "text/plain": [
              "[[1, 1, 1, 1, 1, 1, 1, 1, 1, 1],\n",
              " [1, 1, 1, 1, 1, 1, 1, 1, 1, 1],\n",
              " [1, 1, 1, 1, 1, 1, 1, 1, 1, 1],\n",
              " [1, 1, 1, 1, 1, 1, 1, 1, 1, 1],\n",
              " [1, 1, 1, 1, 1, 1, 1, 1, 1, 1],\n",
              " [1, 1, 1, 1, 1, 1, 1, 1, 1, 1],\n",
              " [1, 1, 1, 1, 1, 1, 1, 1, 1, 1],\n",
              " [1, 1, 1, 1, 1, 1, 1, 1, 1, 1],\n",
              " [1, 1, 1, 1, 1, 1, 1, 1, 1, 1],\n",
              " [1, 1, 1, 1, 1, 1, 1, 1, 1, 1]]"
            ]
          },
          "metadata": {},
          "execution_count": 9
        }
      ]
    },
    {
      "cell_type": "markdown",
      "metadata": {
        "id": "H3qfotpLehFN"
      },
      "source": [
        "Here is a transpose function, which transposes a matrix. If you are not familiar with what it does, here is a [wikipedia](https://en.wikipedia.org/wiki/Transpose) page with an animation."
      ]
    },
    {
      "cell_type": "code",
      "metadata": {
        "id": "_QwjE94JptOr"
      },
      "source": [
        "def transpose (mat) -> list:\n",
        "    \"Transpose the matrix\"\n",
        "    return [[m[i] for m in mat] for i in range(len(mat[0]))]"
      ],
      "execution_count": null,
      "outputs": []
    },
    {
      "cell_type": "code",
      "metadata": {
        "id": "k9gZUXtWhSIh"
      },
      "source": [
        "mat1 = [[1, 2, 3],\n",
        "        [4, 5, 6],\n",
        "        [7, 8, 9]]"
      ],
      "execution_count": null,
      "outputs": []
    },
    {
      "cell_type": "code",
      "metadata": {
        "colab": {
          "base_uri": "https://localhost:8080/"
        },
        "id": "s0HEGrc2g2JJ",
        "outputId": "38c9d2ec-5832-4c14-c1ec-dc93ec8e6225"
      },
      "source": [
        "mat1"
      ],
      "execution_count": null,
      "outputs": [
        {
          "output_type": "execute_result",
          "data": {
            "text/plain": [
              "[[1, 2, 3], [4, 5, 6], [7, 8, 9]]"
            ]
          },
          "metadata": {},
          "execution_count": 12
        }
      ]
    },
    {
      "cell_type": "code",
      "metadata": {
        "colab": {
          "base_uri": "https://localhost:8080/"
        },
        "id": "BaKmQ0pShasm",
        "outputId": "44427b15-717f-4af0-e334-5fc566cf18fe"
      },
      "source": [
        "transpose(mat1)"
      ],
      "execution_count": null,
      "outputs": [
        {
          "output_type": "execute_result",
          "data": {
            "text/plain": [
              "[[1, 4, 7], [2, 5, 8], [3, 6, 9]]"
            ]
          },
          "metadata": {},
          "execution_count": 13
        }
      ]
    },
    {
      "cell_type": "markdown",
      "metadata": {
        "id": "hG3H9g_Xmsrq"
      },
      "source": [
        "`map_mat` calls a fn (function) to a mat1 if there is only one matrix. If there are two matrices, it uses individual elements from both mat1 and mat2 as arguments for the fn. This is a long and complicated function, and I don't think I did a good job of writing it. It might be better to divide them by smaller functions, but I'm not sure. How would you improve it?"
      ]
    },
    {
      "cell_type": "code",
      "metadata": {
        "id": "T2K15xPgT2nZ"
      },
      "source": [
        "def map_mat(fn, mat1, mat2=None) -> list:\n",
        "    \"\"\" If there is only one matrix, call the function on the matrix.\n",
        "        If map_mat is called with two matrices, call the function with \n",
        "        individual elements from mat1 and mat2 respectfully. \n",
        "        This function can handle broadcasting when mat2 is a vector. \"\"\"\n",
        "    if mat2 == None:\n",
        "        return [list(map(fn, mat1[i])) for i in range(len(mat1))]\n",
        "    mat = []\n",
        "    try: \n",
        "        m1r,m1c = shape(mat1)\n",
        "    except ValueError: \n",
        "        m1r = shape(mat1)[0]\n",
        "        m1c = 0\n",
        "    try: \n",
        "        m2r,m2c = shape(mat2)\n",
        "    except ValueError: \n",
        "        m2r = shape(mat2)[0]\n",
        "        m2c = 0\n",
        "    if m1c == m2c == 0:                     # Two 1D vectors\n",
        "        return list(map(fn, mat1, mat2))\n",
        "    elif (m1r, m1c) == (m2r, m2c):          # two matrixs with same sizes\n",
        "        return [[fn(x,y) for x,y in zip(mat1[i], mat2[i])] for i in range(len(mat1))]\n",
        "    elif m1c == m2r and m2c==0:             # shape of (a, b), (b,)\n",
        "        for i in range(m1r):\n",
        "            mat.append([fn(x,y) for x,y in zip(mat1[i],mat2)])\n",
        "        return mat\n",
        "    elif m1r == m2r and m2c == 0:           # shape of (a, b), (a,)\n",
        "        for i in range(m1r):\n",
        "            mat.append([fn(m, mat2[i]) for m in mat1[i]])\n",
        "        return mat\n",
        "    else:\n",
        "        raise Exception(\"map_mat error\")"
      ],
      "execution_count": null,
      "outputs": []
    },
    {
      "cell_type": "code",
      "metadata": {
        "id": "kOmejvQ7l_XD"
      },
      "source": [
        "hund_2s = lst_nums((10, 10), 2)"
      ],
      "execution_count": null,
      "outputs": []
    },
    {
      "cell_type": "code",
      "metadata": {
        "colab": {
          "base_uri": "https://localhost:8080/"
        },
        "id": "7YD6Q-iSnwEh",
        "outputId": "8a68d6b6-2daf-4cb6-fa36-d2470cac8655"
      },
      "source": [
        "hund_3s = map_mat(lambda x, y: x+y, hund_1s, hund_2s)\n",
        "hund_3s"
      ],
      "execution_count": null,
      "outputs": [
        {
          "output_type": "execute_result",
          "data": {
            "text/plain": [
              "[[3, 3, 3, 3, 3, 3, 3, 3, 3, 3],\n",
              " [3, 3, 3, 3, 3, 3, 3, 3, 3, 3],\n",
              " [3, 3, 3, 3, 3, 3, 3, 3, 3, 3],\n",
              " [3, 3, 3, 3, 3, 3, 3, 3, 3, 3],\n",
              " [3, 3, 3, 3, 3, 3, 3, 3, 3, 3],\n",
              " [3, 3, 3, 3, 3, 3, 3, 3, 3, 3],\n",
              " [3, 3, 3, 3, 3, 3, 3, 3, 3, 3],\n",
              " [3, 3, 3, 3, 3, 3, 3, 3, 3, 3],\n",
              " [3, 3, 3, 3, 3, 3, 3, 3, 3, 3],\n",
              " [3, 3, 3, 3, 3, 3, 3, 3, 3, 3]]"
            ]
          },
          "metadata": {},
          "execution_count": 16
        }
      ]
    },
    {
      "cell_type": "code",
      "metadata": {
        "colab": {
          "base_uri": "https://localhost:8080/"
        },
        "id": "lM-3W_xOqeU1",
        "outputId": "105fba9d-dc8b-491d-f736-ed484ae23b34"
      },
      "source": [
        "map_mat(op.mul, hund_3s, hund_3s)"
      ],
      "execution_count": null,
      "outputs": [
        {
          "output_type": "execute_result",
          "data": {
            "text/plain": [
              "[[9, 9, 9, 9, 9, 9, 9, 9, 9, 9],\n",
              " [9, 9, 9, 9, 9, 9, 9, 9, 9, 9],\n",
              " [9, 9, 9, 9, 9, 9, 9, 9, 9, 9],\n",
              " [9, 9, 9, 9, 9, 9, 9, 9, 9, 9],\n",
              " [9, 9, 9, 9, 9, 9, 9, 9, 9, 9],\n",
              " [9, 9, 9, 9, 9, 9, 9, 9, 9, 9],\n",
              " [9, 9, 9, 9, 9, 9, 9, 9, 9, 9],\n",
              " [9, 9, 9, 9, 9, 9, 9, 9, 9, 9],\n",
              " [9, 9, 9, 9, 9, 9, 9, 9, 9, 9],\n",
              " [9, 9, 9, 9, 9, 9, 9, 9, 9, 9]]"
            ]
          },
          "metadata": {},
          "execution_count": 17
        }
      ]
    },
    {
      "cell_type": "code",
      "metadata": {
        "colab": {
          "base_uri": "https://localhost:8080/"
        },
        "id": "2gTuQa-SYfEx",
        "outputId": "4e54b94f-a709-44ef-bfdc-6b5bfa51601b"
      },
      "source": [
        "map_mat(lambda x: x + 1, mat1)"
      ],
      "execution_count": null,
      "outputs": [
        {
          "output_type": "execute_result",
          "data": {
            "text/plain": [
              "[[2, 3, 4], [5, 6, 7], [8, 9, 10]]"
            ]
          },
          "metadata": {},
          "execution_count": 18
        }
      ]
    },
    {
      "cell_type": "markdown",
      "metadata": {
        "id": "gIxYBmPVxZoG"
      },
      "source": [
        "Next, we have reshape function, which reshapes a matrix into new_shape."
      ]
    },
    {
      "cell_type": "code",
      "metadata": {
        "id": "l58QgfFcy-cH"
      },
      "source": [
        "def reshape(matrix, new_shape) -> list:\n",
        "    \"\"\" If matrix can be reshaped into new_shape, then\n",
        "        return a new matrix with a respective shape. \"\"\"\n",
        "    old_shape = shape(matrix)\n",
        "    elem_nums = mul(old_shape)\n",
        "    if old_shape == new_shape:\n",
        "        return matrix\n",
        "    elif not elem_nums == mul(new_shape):\n",
        "        raise Exception(\"Wrong shape!\")\n",
        "    else:\n",
        "        return shaping(flatten(matrix), new_shape, elem_nums)"
      ],
      "execution_count": null,
      "outputs": []
    },
    {
      "cell_type": "code",
      "metadata": {
        "id": "mIS4K3984lDW"
      },
      "source": [
        "def mul(lst: list) -> int:\n",
        "    \"\"\" Return a result of all numbers multiplied.\n",
        "        Like sum, but multiplying. \"\"\"\n",
        "    return reduce(op.mul, lst, 1)"
      ],
      "execution_count": null,
      "outputs": []
    },
    {
      "cell_type": "code",
      "metadata": {
        "id": "u8EuSwfcXjZX"
      },
      "source": [
        "def shaping(flat, new_shape, elem_nums):\n",
        "    \"\"\" Actually shaping flat array into new shape. \"\"\"\n",
        "    new_shape_len = len(new_shape)\n",
        "    if new_shape_len == 1 or new_shape_len == 0:\n",
        "        return result\n",
        "    div = elem_nums // new_shape[0] # div = 50\n",
        "    result = [flat[(i * div):((i+1) * div)] for i in range(new_shape[0])]\n",
        "    if new_shape_len == 2:\n",
        "        return result\n",
        "    else:\n",
        "        return [shaping(result[i], new_shape[1:], div) for i in range(new_shape[0])]"
      ],
      "execution_count": null,
      "outputs": []
    },
    {
      "cell_type": "code",
      "metadata": {
        "id": "viHxPFfUp5L7"
      },
      "source": [
        "def flatten(matrix):\n",
        "    \"\"\" Flatten a matrix into a 1 dimensional list. \"\"\"\n",
        "    result = []\n",
        "    for i in range(len(matrix)):\n",
        "        if isinstance(matrix[i], list):\n",
        "            result.extend(flatten(matrix[i]))\n",
        "        else:\n",
        "            result.append(matrix[i])\n",
        "    return result"
      ],
      "execution_count": null,
      "outputs": []
    },
    {
      "cell_type": "markdown",
      "metadata": {
        "id": "h5zbAsj8uM63"
      },
      "source": [
        "Testing new tools "
      ]
    },
    {
      "cell_type": "code",
      "metadata": {
        "colab": {
          "base_uri": "https://localhost:8080/"
        },
        "id": "zXhBXyVc4dWh",
        "outputId": "61a0f105-6f6d-4a63-f199-1477a6186c5e"
      },
      "source": [
        "# Reshape works with shape function.\n",
        "shape(reshape(hund_1s, (100, 1))), shape(reshape(hund_1s, (1, 100)))"
      ],
      "execution_count": null,
      "outputs": [
        {
          "output_type": "execute_result",
          "data": {
            "text/plain": [
              "((100, 1), (1, 100))"
            ]
          },
          "metadata": {},
          "execution_count": 23
        }
      ]
    },
    {
      "cell_type": "code",
      "metadata": {
        "colab": {
          "base_uri": "https://localhost:8080/"
        },
        "id": "30Xr8J8VHEi6",
        "outputId": "cbba48e7-b61d-4b8b-d98f-c2dbf6cbe7d6"
      },
      "source": [
        "shape(reshape(hund_1s, (2, 5, 10)))"
      ],
      "execution_count": null,
      "outputs": [
        {
          "output_type": "execute_result",
          "data": {
            "text/plain": [
              "(2, 5, 10)"
            ]
          },
          "metadata": {},
          "execution_count": 24
        }
      ]
    },
    {
      "cell_type": "code",
      "metadata": {
        "colab": {
          "base_uri": "https://localhost:8080/"
        },
        "id": "QEp1bYyruL7U",
        "outputId": "e426ba85-c712-4748-92bf-ff226bc92343"
      },
      "source": [
        "mat3 = [[[1, 2],\n",
        "         [3, 4]],\n",
        "        [[5, 6],\n",
        "         [7, 8]]]\n",
        "mat3, shape(mat3)"
      ],
      "execution_count": null,
      "outputs": [
        {
          "output_type": "execute_result",
          "data": {
            "text/plain": [
              "([[[1, 2], [3, 4]], [[5, 6], [7, 8]]], (2, 2, 2))"
            ]
          },
          "metadata": {},
          "execution_count": 25
        }
      ]
    },
    {
      "cell_type": "code",
      "metadata": {
        "colab": {
          "base_uri": "https://localhost:8080/"
        },
        "id": "N-SWDclAu0fa",
        "outputId": "2028c3a7-4eaa-4549-958d-4d3ef11789cc"
      },
      "source": [
        "shape(reshape(mat3, (4, 2))), reshape(mat3, (4, 2))"
      ],
      "execution_count": null,
      "outputs": [
        {
          "output_type": "execute_result",
          "data": {
            "text/plain": [
              "((4, 2), [[1, 2], [3, 4], [5, 6], [7, 8]])"
            ]
          },
          "metadata": {},
          "execution_count": 26
        }
      ]
    },
    {
      "cell_type": "markdown",
      "metadata": {
        "id": "keM-2-8TqMf1"
      },
      "source": [
        "## Collecting Data"
      ]
    },
    {
      "cell_type": "markdown",
      "metadata": {
        "id": "9Jb_pxFIrbwy"
      },
      "source": [
        "With those utilities, we can get started on getting our hands dirty with deep learning."
      ]
    },
    {
      "cell_type": "markdown",
      "metadata": {
        "id": "43tZbVtO5zbH"
      },
      "source": [
        "First, we need data if we want to do some training. We are using [MNIST dataset](https://en.wikipedia.org/wiki/MNIST_database), which contains handwritten digits, from Yann Lecun website. The dataset has 60,000 training images and 10,000 testing images. When we look at amazing things computers were trained to do, such as self driving cars and speech recognition, there were actually a lot of data fed into them for training. Although we tend to only give credits to those who came up with state of the art models, nothing could have been possible without those who prepared for data. "
      ]
    },
    {
      "cell_type": "code",
      "metadata": {
        "colab": {
          "base_uri": "https://localhost:8080/"
        },
        "id": "pYWKuIgIwl3C",
        "outputId": "bed9d329-da9b-4660-82e4-8b03b6f517e2"
      },
      "source": [
        "!wget http://yann.lecun.com/exdb/mnist/train-images-idx3-ubyte.gz\n",
        "!wget http://yann.lecun.com/exdb/mnist/train-labels-idx1-ubyte.gz\n",
        "!wget http://yann.lecun.com/exdb/mnist/t10k-images-idx3-ubyte.gz\n",
        "!wget http://yann.lecun.com/exdb/mnist/t10k-labels-idx1-ubyte.gz"
      ],
      "execution_count": null,
      "outputs": [
        {
          "output_type": "stream",
          "name": "stdout",
          "text": [
            "--2021-09-03 01:35:44--  http://yann.lecun.com/exdb/mnist/train-images-idx3-ubyte.gz\n",
            "Resolving yann.lecun.com (yann.lecun.com)... 172.67.171.76, 104.21.29.36, 2606:4700:3034::6815:1d24, ...\n",
            "Connecting to yann.lecun.com (yann.lecun.com)|172.67.171.76|:80... connected.\n",
            "HTTP request sent, awaiting response... 200 OK\n",
            "Length: 9912422 (9.5M) [application/x-gzip]\n",
            "Saving to: ‘train-images-idx3-ubyte.gz’\n",
            "\n",
            "train-images-idx3-u 100%[===================>]   9.45M  37.6MB/s    in 0.3s    \n",
            "\n",
            "2021-09-03 01:35:44 (37.6 MB/s) - ‘train-images-idx3-ubyte.gz’ saved [9912422/9912422]\n",
            "\n",
            "--2021-09-03 01:35:44--  http://yann.lecun.com/exdb/mnist/train-labels-idx1-ubyte.gz\n",
            "Resolving yann.lecun.com (yann.lecun.com)... 172.67.171.76, 104.21.29.36, 2606:4700:3034::6815:1d24, ...\n",
            "Connecting to yann.lecun.com (yann.lecun.com)|172.67.171.76|:80... connected.\n",
            "HTTP request sent, awaiting response... 200 OK\n",
            "Length: 28881 (28K) [application/x-gzip]\n",
            "Saving to: ‘train-labels-idx1-ubyte.gz’\n",
            "\n",
            "train-labels-idx1-u 100%[===================>]  28.20K  --.-KB/s    in 0.003s  \n",
            "\n",
            "2021-09-03 01:35:44 (10.7 MB/s) - ‘train-labels-idx1-ubyte.gz’ saved [28881/28881]\n",
            "\n",
            "--2021-09-03 01:35:44--  http://yann.lecun.com/exdb/mnist/t10k-images-idx3-ubyte.gz\n",
            "Resolving yann.lecun.com (yann.lecun.com)... 172.67.171.76, 104.21.29.36, 2606:4700:3034::6815:1d24, ...\n",
            "Connecting to yann.lecun.com (yann.lecun.com)|172.67.171.76|:80... connected.\n",
            "HTTP request sent, awaiting response... 200 OK\n",
            "Length: 1648877 (1.6M) [application/x-gzip]\n",
            "Saving to: ‘t10k-images-idx3-ubyte.gz’\n",
            "\n",
            "t10k-images-idx3-ub 100%[===================>]   1.57M  9.67MB/s    in 0.2s    \n",
            "\n",
            "2021-09-03 01:35:44 (9.67 MB/s) - ‘t10k-images-idx3-ubyte.gz’ saved [1648877/1648877]\n",
            "\n",
            "--2021-09-03 01:35:44--  http://yann.lecun.com/exdb/mnist/t10k-labels-idx1-ubyte.gz\n",
            "Resolving yann.lecun.com (yann.lecun.com)... 172.67.171.76, 104.21.29.36, 2606:4700:3034::6815:1d24, ...\n",
            "Connecting to yann.lecun.com (yann.lecun.com)|172.67.171.76|:80... connected.\n",
            "HTTP request sent, awaiting response... 200 OK\n",
            "Length: 4542 (4.4K) [application/x-gzip]\n",
            "Saving to: ‘t10k-labels-idx1-ubyte.gz’\n",
            "\n",
            "t10k-labels-idx1-ub 100%[===================>]   4.44K  --.-KB/s    in 0s      \n",
            "\n",
            "2021-09-03 01:35:45 (334 MB/s) - ‘t10k-labels-idx1-ubyte.gz’ saved [4542/4542]\n",
            "\n"
          ]
        }
      ]
    },
    {
      "cell_type": "code",
      "metadata": {
        "colab": {
          "base_uri": "https://localhost:8080/"
        },
        "id": "8Oq__BUhPsIe",
        "outputId": "d7cee4d3-f605-4001-edef-fd5b0582e4b5"
      },
      "source": [
        "!ls"
      ],
      "execution_count": null,
      "outputs": [
        {
          "output_type": "stream",
          "name": "stdout",
          "text": [
            "sample_data\t\t   train-images-idx3-ubyte.gz\n",
            "t10k-images-idx3-ubyte.gz  train-labels-idx1-ubyte.gz\n",
            "t10k-labels-idx1-ubyte.gz\n"
          ]
        }
      ]
    },
    {
      "cell_type": "markdown",
      "metadata": {
        "id": "ekZbb9IDCMEn"
      },
      "source": [
        "Now, I am making a directory for all the data and putting data inside."
      ]
    },
    {
      "cell_type": "code",
      "metadata": {
        "id": "sx-n4pPN0IeG",
        "colab": {
          "base_uri": "https://localhost:8080/"
        },
        "outputId": "c441c0ac-5db0-4753-f553-4891a3b00cc3"
      },
      "source": [
        "# Todo: Change the code into using python pathlib library \n",
        "!mkdir data\n",
        "!mv train-images-idx3-ubyte.gz data/\n",
        "!mv train-labels-idx1-ubyte.gz data/\n",
        "!mv t10k-images-idx3-ubyte.gz data/\n",
        "!mv t10k-labels-idx1-ubyte.gz data/\n",
        "!ls data/"
      ],
      "execution_count": null,
      "outputs": [
        {
          "output_type": "stream",
          "name": "stdout",
          "text": [
            "t10k-images-idx3-ubyte.gz  train-images-idx3-ubyte.gz\n",
            "t10k-labels-idx1-ubyte.gz  train-labels-idx1-ubyte.gz\n"
          ]
        }
      ]
    },
    {
      "cell_type": "markdown",
      "metadata": {
        "id": "gQ21AzC799sJ"
      },
      "source": [
        "Now, we have files we need. With `py_mnist_images` and `py_mnist_labels`, we convert these files into lists of images. I got those functions from [here](https://stackoverflow.com/questions/40427435/extract-images-from-idx3-ubyte-file-or-gzip-via-python), which originally returned numpy arrays, but I changed them to return lists. After calling those functions, we call `reshape` function to make them shapes of images, which are 28 by 28 pixels."
      ]
    },
    {
      "cell_type": "code",
      "metadata": {
        "id": "h1IW-pImYwOz"
      },
      "source": [
        "def py_mnist_images(fname:str, pct:1) -> list:\n",
        "    \"\"\" Convert zip files into lists of images. \n",
        "        Only returning pct percent of data.     \"\"\"\n",
        "    with gzip.open('data/'+fname, 'r') as f:\n",
        "        # first 4 bytes is a magic number\n",
        "        magic_number = int.from_bytes(f.read(4), 'big')\n",
        "        # second 4 bytes is the number of images\n",
        "        image_count = int.from_bytes(f.read(4), 'big')\n",
        "        # image_count = int(image_count * percent)\n",
        "        # third 4 bytes is the row count\n",
        "        row_count = int.from_bytes(f.read(4), 'big')\n",
        "        # fourth 4 bytes is the column count\n",
        "        column_count = int.from_bytes(f.read(4), 'big')\n",
        "        # rest is the image pixel data, each pixel is stored as an unsigned byte\n",
        "        # pixel values are 0 to 255\n",
        "        image_data = f.read()\n",
        "        images = reshape(list(image_data), (image_count, column_count, row_count))\n",
        "        return images[:int(image_count * pct)]\n",
        "        # return reshape(images, (image_count, column_count, row_count))\n",
        "\n",
        "def py_mnist_labels(fname:str, pct:1) -> list:\n",
        "    \"\"\" Convert zip files into lists of labels. \n",
        "        Only returning pct percent of data.     \"\"\"\n",
        "    with gzip.open('data/'+fname, 'r') as f:\n",
        "        # first 4 bytes is a magic number\n",
        "        magic_number = int.from_bytes(f.read(4), 'big')\n",
        "        # second 4 bytes is the number of labels\n",
        "        label_count = int.from_bytes(f.read(4), 'big')\n",
        "        # rest is the label data, each label is stored as unsigned byte\n",
        "        # label values are 0 to 9\n",
        "        label_data = f.read()\n",
        "        labels = list(label_data)\n",
        "        return labels[:int(label_count * pct)]"
      ],
      "execution_count": null,
      "outputs": []
    },
    {
      "cell_type": "markdown",
      "metadata": {
        "id": "7kvsF_9is-GB"
      },
      "source": [
        "With `py_mnist_images`, we get lists of images. We call these matrices. When an array has 1 dimension, it is a vector, and an array 2 or more dimensions is called matrix. "
      ]
    },
    {
      "cell_type": "markdown",
      "metadata": {
        "id": "eoJuR7G5xa6a"
      },
      "source": [
        "Let's us only 1% of the data because python is slow. "
      ]
    },
    {
      "cell_type": "code",
      "metadata": {
        "id": "2C4IzaPy_gLT"
      },
      "source": [
        "train_imgs = py_mnist_images('train-images-idx3-ubyte.gz', pct=0.01)\n",
        "train_labels = py_mnist_labels('train-labels-idx1-ubyte.gz', pct=0.01)\n",
        "test_imgs = py_mnist_images('t10k-images-idx3-ubyte.gz', pct=0.01)\n",
        "test_labels = py_mnist_labels('t10k-labels-idx1-ubyte.gz', pct=0.01)"
      ],
      "execution_count": null,
      "outputs": []
    },
    {
      "cell_type": "markdown",
      "metadata": {
        "id": "kd4bJLkhSyt_"
      },
      "source": [
        "Let's take a look at those data before we move on. We want to make sure we are working with correct data. Using `plt.imshow`, we can take a look at each image."
      ]
    },
    {
      "cell_type": "code",
      "metadata": {
        "colab": {
          "base_uri": "https://localhost:8080/"
        },
        "id": "EdthMy4xDun0",
        "outputId": "cc16c998-a27f-4f1b-88f9-e7f1cbfdffc0"
      },
      "source": [
        "type(train_imgs), type(train_imgs[0][0][0])"
      ],
      "execution_count": null,
      "outputs": [
        {
          "output_type": "execute_result",
          "data": {
            "text/plain": [
              "(list, int)"
            ]
          },
          "metadata": {},
          "execution_count": 32
        }
      ]
    },
    {
      "cell_type": "code",
      "metadata": {
        "colab": {
          "base_uri": "https://localhost:8080/"
        },
        "id": "CaVAU7_KsXo1",
        "outputId": "03fd0785-e81e-4f45-ebfb-42c4de2cb42d"
      },
      "source": [
        "shape(train_imgs), shape(train_labels), shape(test_imgs), shape(test_labels)"
      ],
      "execution_count": null,
      "outputs": [
        {
          "output_type": "execute_result",
          "data": {
            "text/plain": [
              "((600, 28, 28), (600,), (100, 28, 28), (100,))"
            ]
          },
          "metadata": {},
          "execution_count": 33
        }
      ]
    },
    {
      "cell_type": "markdown",
      "metadata": {
        "id": "bveQs7JnzVa6"
      },
      "source": [
        "Here are pictures with labels. "
      ]
    },
    {
      "cell_type": "code",
      "metadata": {
        "colab": {
          "base_uri": "https://localhost:8080/",
          "height": 284
        },
        "id": "Zf0y1_Lcsn0g",
        "outputId": "eeb8bbcc-5468-46fd-8f1c-5c9b457fda3a"
      },
      "source": [
        "plt.imshow(train_imgs[0], cmap='gray'); train_labels[0]"
      ],
      "execution_count": null,
      "outputs": [
        {
          "output_type": "execute_result",
          "data": {
            "text/plain": [
              "5"
            ]
          },
          "metadata": {},
          "execution_count": 34
        },
        {
          "output_type": "display_data",
          "data": {
            "image/png": "[encoded data removed]",
            "text/plain": [
              "<Figure size 432x288 with 1 Axes>"
            ]
          },
          "metadata": {
            "needs_background": "light"
          }
        }
      ]
    },
    {
      "cell_type": "code",
      "metadata": {
        "colab": {
          "base_uri": "https://localhost:8080/",
          "height": 284
        },
        "id": "43DJFysBzPpr",
        "outputId": "7627f259-c4bb-4447-ce3d-7c509e7122a8"
      },
      "source": [
        "plt.imshow(train_imgs[1], cmap='gray'); train_labels[1]"
      ],
      "execution_count": null,
      "outputs": [
        {
          "output_type": "execute_result",
          "data": {
            "text/plain": [
              "0"
            ]
          },
          "metadata": {},
          "execution_count": 35
        },
        {
          "output_type": "display_data",
          "data": {
            "image/png": "[encoded data removed]",
            "text/plain": [
              "<Figure size 432x288 with 1 Axes>"
            ]
          },
          "metadata": {
            "needs_background": "light"
          }
        }
      ]
    },
    {
      "cell_type": "code",
      "metadata": {
        "colab": {
          "base_uri": "https://localhost:8080/",
          "height": 284
        },
        "id": "kJdkJ99TzSV5",
        "outputId": "60fb0c97-476a-4499-e980-5fe86006b69f"
      },
      "source": [
        "plt.imshow(train_imgs[2], cmap='gray'); train_labels[2]"
      ],
      "execution_count": null,
      "outputs": [
        {
          "output_type": "execute_result",
          "data": {
            "text/plain": [
              "4"
            ]
          },
          "metadata": {},
          "execution_count": 36
        },
        {
          "output_type": "display_data",
          "data": {
            "image/png": "[encoded data removed]",
            "text/plain": [
              "<Figure size 432x288 with 1 Axes>"
            ]
          },
          "metadata": {
            "needs_background": "light"
          }
        }
      ]
    },
    {
      "cell_type": "markdown",
      "metadata": {
        "id": "yNP5aO5lvH6D"
      },
      "source": [
        "Now that we have some tools to work with, we can prepare our data for training. First, we will reshape our data. We are combining x and y axis into a vector (1-dimensional array) so that one array equals to one image. Then, we normalize our data by dividing them by 255 because the highest value is 255. "
      ]
    },
    {
      "cell_type": "code",
      "metadata": {
        "colab": {
          "base_uri": "https://localhost:8080/"
        },
        "id": "H81tDb695ORu",
        "outputId": "dfa2cc51-5066-47d7-b1ea-cc3c8f3df6ab"
      },
      "source": [
        "train_imgs = reshape(train_imgs, (600, 28 * 28))\n",
        "test_imgs = reshape(test_imgs, (100, 28 * 28))\n",
        "shape(train_imgs), shape(test_imgs)"
      ],
      "execution_count": null,
      "outputs": [
        {
          "output_type": "execute_result",
          "data": {
            "text/plain": [
              "((600, 784), (100, 784))"
            ]
          },
          "metadata": {},
          "execution_count": 37
        }
      ]
    },
    {
      "cell_type": "code",
      "metadata": {
        "id": "3DNkZ7opV0sm"
      },
      "source": [
        "train_imgs = map_mat(lambda x: x / 255, train_imgs)\n",
        "test_imgs = map_mat(lambda x: x / 255, test_imgs)"
      ],
      "execution_count": null,
      "outputs": []
    },
    {
      "cell_type": "code",
      "metadata": {
        "colab": {
          "base_uri": "https://localhost:8080/"
        },
        "id": "yrFuCCIs4k-5",
        "outputId": "0c412d5c-46ed-4185-ee1b-5dbeb876dbba"
      },
      "source": [
        "train_imgs[0][400:450]"
      ],
      "execution_count": null,
      "outputs": [
        {
          "output_type": "execute_result",
          "data": {
            "text/plain": [
              "[0.0,\n",
              " 0.0,\n",
              " 0.0,\n",
              " 0.0,\n",
              " 0.0,\n",
              " 0.3176470588235294,\n",
              " 0.9411764705882353,\n",
              " 0.9921568627450981,\n",
              " 0.9921568627450981,\n",
              " 0.4666666666666667,\n",
              " 0.09803921568627451,\n",
              " 0.0,\n",
              " 0.0,\n",
              " 0.0,\n",
              " 0.0,\n",
              " 0.0,\n",
              " 0.0,\n",
              " 0.0,\n",
              " 0.0,\n",
              " 0.0,\n",
              " 0.0,\n",
              " 0.0,\n",
              " 0.0,\n",
              " 0.0,\n",
              " 0.0,\n",
              " 0.0,\n",
              " 0.0,\n",
              " 0.0,\n",
              " 0.0,\n",
              " 0.0,\n",
              " 0.0,\n",
              " 0.0,\n",
              " 0.0,\n",
              " 0.0,\n",
              " 0.17647058823529413,\n",
              " 0.7294117647058823,\n",
              " 0.9921568627450981,\n",
              " 0.9921568627450981,\n",
              " 0.5882352941176471,\n",
              " 0.10588235294117647,\n",
              " 0.0,\n",
              " 0.0,\n",
              " 0.0,\n",
              " 0.0,\n",
              " 0.0,\n",
              " 0.0,\n",
              " 0.0,\n",
              " 0.0,\n",
              " 0.0,\n",
              " 0.0]"
            ]
          },
          "metadata": {},
          "execution_count": 39
        }
      ]
    },
    {
      "cell_type": "markdown",
      "metadata": {
        "id": "SWRMRkvsxvj3"
      },
      "source": [
        "## Initializing Weights"
      ]
    },
    {
      "cell_type": "markdown",
      "metadata": {
        "id": "kuYxwTYE9FPq"
      },
      "source": [
        "data + weight & bias = model"
      ]
    },
    {
      "cell_type": "markdown",
      "metadata": {
        "id": "1sgx_cODoESX"
      },
      "source": [
        "Another ingredient for deep learning is a set of weights."
      ]
    },
    {
      "cell_type": "code",
      "metadata": {
        "id": "5vx-dBJ12VlH"
      },
      "source": [
        "def lst_random(shape, init_parms=False):\n",
        "    \"return a list of randoms and if init_parms is True, initialize parameters using Kaiming init.\"\n",
        "    x, y = shape\n",
        "    res = lst_nums(shape, 0)\n",
        "    for i in range(x):\n",
        "        for j in range(y):\n",
        "            res[i][j] = random.normalvariate(0,1)\n",
        "            if init_parms: res[i][j] *= math.sqrt(2/x)\n",
        "    return res"
      ],
      "execution_count": null,
      "outputs": []
    },
    {
      "cell_type": "code",
      "metadata": {
        "colab": {
          "base_uri": "https://localhost:8080/"
        },
        "id": "Y8XSCmBjpKqj",
        "outputId": "7827ab5a-a692-4a8f-b3ac-9af6d2dd40be"
      },
      "source": [
        "rand_mat = lst_random((10,10))\n",
        "shape(rand_mat)"
      ],
      "execution_count": null,
      "outputs": [
        {
          "output_type": "execute_result",
          "data": {
            "text/plain": [
              "(10, 10)"
            ]
          },
          "metadata": {},
          "execution_count": 41
        }
      ]
    },
    {
      "cell_type": "markdown",
      "metadata": {
        "id": "OGDAEjw3_JI8"
      },
      "source": [
        "Using Kaiming init. With Kaiming init, we get a head start compared to using just random numbers."
      ]
    },
    {
      "cell_type": "code",
      "metadata": {
        "id": "ztld9OD3hzPB"
      },
      "source": [
        "sample = lst_random((200, 100), True)\n",
        "# x = map_mat(lambda x: x*0.1, x)\n",
        "# statistics.stdev(x[0])"
      ],
      "execution_count": null,
      "outputs": []
    },
    {
      "cell_type": "markdown",
      "metadata": {
        "id": "YQsr5tku--ge"
      },
      "source": [
        "Checking whether the initialization works. Standard deviation should equal to sqrt(2/n_in), and mean should be 0. And this works. With this initialization, we can train deeper layers. For more information, paper is [here](https://arxiv.org/abs/1502.01852)."
      ]
    },
    {
      "cell_type": "code",
      "metadata": {
        "id": "lvVUj1eaIuhu"
      },
      "source": [
        "def check_dist(x):\n",
        "    for i in range(len(x)//10):\n",
        "        print(statistics.stdev(x[i]), statistics.mean(x[i]))"
      ],
      "execution_count": null,
      "outputs": []
    },
    {
      "cell_type": "code",
      "metadata": {
        "colab": {
          "base_uri": "https://localhost:8080/"
        },
        "id": "BbpBLETEO4cQ",
        "outputId": "c20301a7-64fc-4221-a377-891aa05aaf5b"
      },
      "source": [
        "math.sqrt(2/200)"
      ],
      "execution_count": null,
      "outputs": [
        {
          "output_type": "execute_result",
          "data": {
            "text/plain": [
              "0.1"
            ]
          },
          "metadata": {},
          "execution_count": 44
        }
      ]
    },
    {
      "cell_type": "code",
      "metadata": {
        "id": "VbdpIc97lNX5",
        "colab": {
          "base_uri": "https://localhost:8080/"
        },
        "outputId": "bd8ecfaa-79dc-4f6d-8a91-4c960507a943"
      },
      "source": [
        "check_dist(sample)"
      ],
      "execution_count": null,
      "outputs": [
        {
          "output_type": "stream",
          "name": "stdout",
          "text": [
            "0.09297750982483842 -0.005551492975462343\n",
            "0.09377392014470953 -0.0004644530715541377\n",
            "0.0880266808855306 0.0014302874910074933\n",
            "0.10476777083224814 0.006420732596219193\n",
            "0.11401894394433278 0.0026472387089674365\n",
            "0.09504169857687136 -0.016832640036345214\n",
            "0.10115404723103125 0.008298330317628617\n",
            "0.10003722020964131 -0.001963013655344632\n",
            "0.10840916095212666 -0.003917221072107054\n",
            "0.09475181552257386 0.010960612697832342\n",
            "0.10749452903124168 -0.00043170903663133643\n",
            "0.11426827714443664 -0.01592956027184722\n",
            "0.09805584337087062 0.006115694202963703\n",
            "0.09530437918322529 0.0010778647613035926\n",
            "0.10786920778882839 -4.886472580181381e-05\n",
            "0.09951682764549248 0.004193264024171723\n",
            "0.10069742267004245 -0.0041036793564703114\n",
            "0.12237299727220302 -0.008247944715812132\n",
            "0.10771116381117542 0.010819112201489189\n",
            "0.09027209249627051 -0.010052280483938152\n"
          ]
        }
      ]
    },
    {
      "cell_type": "code",
      "metadata": {
        "id": "5f6YrMu1BpeB"
      },
      "source": [
        "# %timeit -n 20 for_sum(sum_test)"
      ],
      "execution_count": null,
      "outputs": []
    },
    {
      "cell_type": "markdown",
      "metadata": {
        "id": "nzn9nF3VvGy_"
      },
      "source": [
        "## Matrix multiplication"
      ]
    },
    {
      "cell_type": "markdown",
      "metadata": {
        "id": "J5YZMmARvxVq"
      },
      "source": [
        "Now that our data is ready, it is time to look at matrix multiplication, which is the most frequently used operation in deep learning."
      ]
    },
    {
      "cell_type": "code",
      "metadata": {
        "id": "WLRugtWl_NJo"
      },
      "source": [
        "x = lst_random((200,100))"
      ],
      "execution_count": null,
      "outputs": []
    },
    {
      "cell_type": "code",
      "metadata": {
        "colab": {
          "base_uri": "https://localhost:8080/"
        },
        "id": "-Uvs_guYE8aL",
        "outputId": "3f2c9b83-ad0d-454e-e9af-7ddf550c000e"
      },
      "source": [
        "x[1][:5]"
      ],
      "execution_count": null,
      "outputs": [
        {
          "output_type": "execute_result",
          "data": {
            "text/plain": [
              "[0.9347526378113412,\n",
              " -0.1316092325249455,\n",
              " -1.7432261605942205,\n",
              " -0.5668829848642469,\n",
              " -0.22568080371154053]"
            ]
          },
          "metadata": {},
          "execution_count": 48
        }
      ]
    },
    {
      "cell_type": "markdown",
      "metadata": {
        "id": "P5UBl8En3vfB"
      },
      "source": [
        "If shape is (2,3):\n",
        "[[1,1,1],\n",
        " [1,1,1]]\n",
        " Also, if matrix multiplication between (2, 3) and (3, 4) should be (2, 4)"
      ]
    },
    {
      "cell_type": "code",
      "metadata": {
        "id": "D2cP3gy56C20"
      },
      "source": [
        "def py_matmul1(a,b):\n",
        "    \"Needs some speed ups\"\n",
        "    ar,ac = len(a),len(a[0])\n",
        "    br,bc = len(b),len(b[0])\n",
        "    assert ac == br, f'Size of ar ({ac}) does not match br ({br}).'\n",
        "    c = lst_nums((ar, bc), 0)\n",
        "    for i in range(ar):\n",
        "         for j in range(bc):\n",
        "             for z in range(ac):\n",
        "                 c[i][j] += a[i][z] * b[z][j]\n",
        "    return c"
      ],
      "execution_count": null,
      "outputs": []
    },
    {
      "cell_type": "code",
      "metadata": {
        "id": "TSBOXaMki6d3"
      },
      "source": [
        "m1 = [[1,2],[3,4]]\n",
        "m2 = [[0,3],[2,5]]\n",
        "m5 = [[1,2,3,4],[5,6]]"
      ],
      "execution_count": null,
      "outputs": []
    },
    {
      "cell_type": "code",
      "metadata": {
        "colab": {
          "base_uri": "https://localhost:8080/"
        },
        "id": "Q8nr9uqvk3IB",
        "outputId": "25ba5135-aa52-4752-b397-1a7a12da1ec9"
      },
      "source": [
        "py_matmul1(m1,m2)"
      ],
      "execution_count": null,
      "outputs": [
        {
          "output_type": "execute_result",
          "data": {
            "text/plain": [
              "[[10, 13], [22, 29]]"
            ]
          },
          "metadata": {},
          "execution_count": 51
        }
      ]
    },
    {
      "cell_type": "code",
      "metadata": {
        "id": "9i5HvFJ0o2Oz"
      },
      "source": [
        "ml1 = lst_random((784, 100))\n",
        "ml2 = lst_random((100, 10))"
      ],
      "execution_count": null,
      "outputs": []
    },
    {
      "cell_type": "markdown",
      "metadata": {
        "id": "VnwMKaQ-8FNz"
      },
      "source": [
        "It works, but it is slow. We can make it faster by getting rid of for loop."
      ]
    },
    {
      "cell_type": "code",
      "metadata": {
        "id": "29f6YTv5RgIk"
      },
      "source": [
        "# %timeit -n 20 py_matmul(ml1, ml2)"
      ],
      "execution_count": null,
      "outputs": []
    },
    {
      "cell_type": "code",
      "metadata": {
        "id": "UBAb5ZW428cM"
      },
      "source": [
        "def col_mat (mat:list, col:int) -> list:\n",
        "    \"Get a column of a matrix.\"\n",
        "    return [m[col] for m in mat]"
      ],
      "execution_count": null,
      "outputs": []
    },
    {
      "cell_type": "code",
      "metadata": {
        "id": "nDBZi688z3uH"
      },
      "source": [
        "def py_matmul2(a,b):\n",
        "    \"Use sum function\"\n",
        "    ar,ac = len(a),len(a[0])\n",
        "    br,bc = len(b),len(b[0])\n",
        "    assert ac == br, f'Size of ar ({ac}) does not match br ({br}).'\n",
        "    c = lst_nums((ar, bc), 0)\n",
        "    for i in range(ar):\n",
        "         for j in range(bc):\n",
        "             c[i][j] = sum(map_mat(op.mul, a[i], col_mat(b,j)))\n",
        "    return c"
      ],
      "execution_count": null,
      "outputs": []
    },
    {
      "cell_type": "markdown",
      "metadata": {
        "id": "ijkeW5WJRnj5"
      },
      "source": [
        "Using two for loops is faster than using three. "
      ]
    },
    {
      "cell_type": "code",
      "metadata": {
        "id": "W44qk9EU5u6G"
      },
      "source": [
        "# %timeit -n 20 py_matmul2(ml1, ml2)"
      ],
      "execution_count": null,
      "outputs": []
    },
    {
      "cell_type": "code",
      "metadata": {
        "id": "u3BXOZy4lmyn"
      },
      "source": [
        "def py_matmul3(a, b):\n",
        "    ar,ac = len(a),len(a[0])\n",
        "    br,bc = len(b),len(b[0])\n",
        "    assert ac == br, f'Size of ar ({ac}) does not match br ({br}).'\n",
        "    c = lst_nums((ar, bc), 0)\n",
        "    for i in range(ar):\n",
        "        c[i] = [sum(map_mat(op.mul, a[i], col_mat(b,j))) for j in range(bc)]\n",
        "    return c"
      ],
      "execution_count": null,
      "outputs": []
    },
    {
      "cell_type": "code",
      "metadata": {
        "id": "m71-qN9jm6aH"
      },
      "source": [
        "# py_matmul3(m1, m2)"
      ],
      "execution_count": null,
      "outputs": []
    },
    {
      "cell_type": "code",
      "metadata": {
        "id": "kOLTvbGCm9Kd"
      },
      "source": [
        "# %timeit -n 20 py_matmul3(ml1, ml2)"
      ],
      "execution_count": null,
      "outputs": []
    },
    {
      "cell_type": "code",
      "metadata": {
        "id": "tRgtz8_sqrKv"
      },
      "source": [
        "# %prun py_matmul3(ml1, ml2)"
      ],
      "execution_count": null,
      "outputs": []
    },
    {
      "cell_type": "markdown",
      "metadata": {
        "id": "BlofuQVjlytn"
      },
      "source": [
        "Even with reducing it to one loop, we did not really gain much speed. After using prun, we can see that elementwise is using a lot of time. We can probably get away without using elemtwise to achieve matrix multiplication."
      ]
    },
    {
      "cell_type": "code",
      "metadata": {
        "id": "McdYMU_brQEV"
      },
      "source": [
        "def py_matmul4(a, b):\n",
        "    ar,ac = len(a),len(a[0])\n",
        "    br,bc = len(b),len(b[0])\n",
        "    assert ac == br, f'Size of ar ({ac}) does not match br ({br}).'\n",
        "    c = lst_nums((ar, bc), 0)\n",
        "    t = transpose(b)\n",
        "    for i in range(ar):\n",
        "        c[i] = [sum(map(lambda x: x[0] * x[1], zip(a[i], (t[j])))) for j in range(bc)]\n",
        "    return c"
      ],
      "execution_count": null,
      "outputs": []
    },
    {
      "cell_type": "code",
      "metadata": {
        "id": "eP_qVNLo0sz6"
      },
      "source": [
        "# py_matmul4(m1, m2)"
      ],
      "execution_count": null,
      "outputs": []
    },
    {
      "cell_type": "markdown",
      "metadata": {
        "id": "ogdhVnuG6cGy"
      },
      "source": [
        "Without elementwise, we gained some speed compared to other versions. "
      ]
    },
    {
      "cell_type": "code",
      "metadata": {
        "id": "Kpazunar3JXL"
      },
      "source": [
        "# %timeit -n 20 py_matmul4(ml1, ml2)"
      ],
      "execution_count": null,
      "outputs": []
    },
    {
      "cell_type": "code",
      "metadata": {
        "id": "GriCM9xj3eT4"
      },
      "source": [
        "# %prun py_matmul4(ml1, ml2)"
      ],
      "execution_count": null,
      "outputs": []
    },
    {
      "cell_type": "markdown",
      "metadata": {
        "id": "DFI2_Wj972nX"
      },
      "source": [
        "I am still not satisfied with the result yet. I am sure we can do better. Let's get some help from itertools."
      ]
    },
    {
      "cell_type": "markdown",
      "metadata": {
        "id": "7zSbjlsuGGHF"
      },
      "source": [
        "Default sum takes the longest time to execute now, but it is faster option we have, compared to using for loop or reduce function."
      ]
    },
    {
      "cell_type": "code",
      "metadata": {
        "id": "Ju4_4Qp38CA9"
      },
      "source": [
        "def py_matmul(a, b):\n",
        "    ar,ac = len(a),len(a[0])\n",
        "    br,bc = len(b),len(b[0])\n",
        "    assert ac == br, f'Size of ar ({ac}) does not match br ({br}).'\n",
        "    c = lst_nums((ar, bc), 0)\n",
        "    t = transpose(b)\n",
        "    for i in range(ar):\n",
        "        c[i] = [sum(map(op.mul, a[i], t[j])) for j in range(bc)]\n",
        "    return c"
      ],
      "execution_count": null,
      "outputs": []
    },
    {
      "cell_type": "code",
      "metadata": {
        "colab": {
          "base_uri": "https://localhost:8080/"
        },
        "id": "kMV10ECl8MwK",
        "outputId": "41adebf6-ba49-4cd5-df70-86d8d70fddff"
      },
      "source": [
        "py_matmul(m1, m2)"
      ],
      "execution_count": null,
      "outputs": [
        {
          "output_type": "execute_result",
          "data": {
            "text/plain": [
              "[[10, 13], [22, 29]]"
            ]
          },
          "metadata": {},
          "execution_count": 66
        }
      ]
    },
    {
      "cell_type": "markdown",
      "metadata": {
        "id": "J8NFy61QMtjX"
      },
      "source": [
        "## Model"
      ]
    },
    {
      "cell_type": "markdown",
      "metadata": {
        "id": "BY_d1J1y6JFr"
      },
      "source": [
        "First, we will make a model with classes first. "
      ]
    },
    {
      "cell_type": "code",
      "metadata": {
        "id": "QbDEOtGiV847"
      },
      "source": [
        "m1_np = np.array(m1)\n",
        "m2_np = np.array(m2)"
      ],
      "execution_count": null,
      "outputs": []
    },
    {
      "cell_type": "code",
      "metadata": {
        "id": "zoglZw3xk8Uk"
      },
      "source": [
        "class Relu():\n",
        "    def forward(self, x):\n",
        "        self.old_x = x.copy()\n",
        "        res = map_mat(lambda y: 0 if y < 0 else y, x)\n",
        "        return res\n",
        "\n",
        "    def backward(self, grad):\n",
        "        res = map_mat(lambda x, g: g if x > 0 else 0, self.old_x, grad)\n",
        "        return res"
      ],
      "execution_count": null,
      "outputs": []
    },
    {
      "cell_type": "code",
      "metadata": {
        "id": "O1-tXyUZSalN"
      },
      "source": [
        "class Relu_np():\n",
        "    def forward(self, x):\n",
        "        self.old_x = np.copy(x)\n",
        "        return np.clip(x,0,None)\n",
        "\n",
        "    def backward(self, grad):\n",
        "        return np.where(self.old_x>0,grad,0)"
      ],
      "execution_count": null,
      "outputs": []
    },
    {
      "cell_type": "code",
      "metadata": {
        "colab": {
          "base_uri": "https://localhost:8080/"
        },
        "id": "NFHSPTj-WHig",
        "outputId": "5b8d9ab5-d3b7-48ef-ab47-e4e9161c168b"
      },
      "source": [
        "relu = Relu()\n",
        "relu_np = Relu_np()\n",
        "relu.forward(m1), relu_np.forward(m1)"
      ],
      "execution_count": null,
      "outputs": [
        {
          "output_type": "execute_result",
          "data": {
            "text/plain": [
              "([[1, 2], [3, 4]], array([[1, 2],\n",
              "        [3, 4]]))"
            ]
          },
          "metadata": {},
          "execution_count": 93
        }
      ]
    },
    {
      "cell_type": "code",
      "metadata": {
        "colab": {
          "base_uri": "https://localhost:8080/"
        },
        "id": "LIjoo9p2WWIZ",
        "outputId": "af539d90-f1bb-48b6-c008-814cabdfa1ca"
      },
      "source": [
        "relu.backward(m2), relu_np.backward(m2_np)"
      ],
      "execution_count": null,
      "outputs": [
        {
          "output_type": "execute_result",
          "data": {
            "text/plain": [
              "([[2, 3], [4, 5]], array([[2, 3],\n",
              "        [4, 5]]))"
            ]
          },
          "metadata": {},
          "execution_count": 94
        }
      ]
    },
    {
      "cell_type": "code",
      "metadata": {
        "id": "6y3qvJER-OUD"
      },
      "source": [
        "class Softmax():\n",
        "    def forward(self, inp):\n",
        "        mat = map_mat(math.exp, inp)\n",
        "        self.old_y = []\n",
        "        for i in range(len(mat)):\n",
        "            s = sum(mat[i])\n",
        "            self.old_y.append([x/s for x in mat[i]])\n",
        "        return self.old_y\n",
        "    \n",
        "    def backward(self, grad):\n",
        "        res = map_mat(op.mul, self.old_y, grad)\n",
        "        res = [sum(res[i]) for i in range(len(self.old_y))] # shape is (64,)\n",
        "        # res = reshape(res, (2, 1))\n",
        "        # print(f'Softmax: {res}')\n",
        "        # res = map_mat(op.sub, grad, res)\n",
        "        res = [list(map(lambda x: x - res[i], grad[i])) for i in range(len(grad))]\n",
        "        # print(f'Softmax: {res}')\n",
        "        return map_mat(op.mul, self.old_y, res)"
      ],
      "execution_count": null,
      "outputs": []
    },
    {
      "cell_type": "code",
      "metadata": {
        "id": "JBv9UN55SgkP"
      },
      "source": [
        "class Softmax_np():\n",
        "    def forward(self,x):\n",
        "        self.old_y = np.exp(x) / np.exp(x).sum(axis=1) [:,None]\n",
        "        return self.old_y\n",
        "\n",
        "    def backward(self,grad):\n",
        "        res = (grad * self.old_y).sum(axis=1)[:,None]\n",
        "        print(f'Softmax_np: {res}')\n",
        "        res = grad - res\n",
        "        print(f'Softmax_np: {res}')\n",
        "        # return self.old_y * (grad - (grad * self.old_y).sum(axis=1)[:,None])\n",
        "        return self.old_y * res"
      ],
      "execution_count": null,
      "outputs": []
    },
    {
      "cell_type": "code",
      "metadata": {
        "colab": {
          "base_uri": "https://localhost:8080/"
        },
        "id": "h9WGArZIkbdt",
        "outputId": "496afd0b-4d33-41c9-b7de-678ed3b67d98"
      },
      "source": [
        "m1_np.sum(axis=1)[:,None]"
      ],
      "execution_count": null,
      "outputs": [
        {
          "output_type": "execute_result",
          "data": {
            "text/plain": [
              "array([[3],\n",
              "       [7]])"
            ]
          },
          "metadata": {},
          "execution_count": 208
        }
      ]
    },
    {
      "cell_type": "code",
      "metadata": {
        "colab": {
          "base_uri": "https://localhost:8080/"
        },
        "id": "U-CcQZ9tWerC",
        "outputId": "b64df904-0e07-40b3-a6b5-d4531abca778"
      },
      "source": [
        "sm = Softmax()\n",
        "sm_np = Softmax_np()\n",
        "sm.forward(m1), sm_np.forward(m1)"
      ],
      "execution_count": null,
      "outputs": [
        {
          "output_type": "execute_result",
          "data": {
            "text/plain": [
              "([[0.2689414213699951, 0.7310585786300049],\n",
              "  [0.2689414213699951, 0.7310585786300048]],\n",
              " array([[0.26894142, 0.73105858],\n",
              "        [0.26894142, 0.73105858]]))"
            ]
          },
          "metadata": {},
          "execution_count": 222
        }
      ]
    },
    {
      "cell_type": "code",
      "metadata": {
        "colab": {
          "base_uri": "https://localhost:8080/"
        },
        "id": "4zbwNS5Ose4I",
        "outputId": "6d626822-c9ea-48cd-a86f-9255f60e013b"
      },
      "source": [
        "m2_np"
      ],
      "execution_count": null,
      "outputs": [
        {
          "output_type": "execute_result",
          "data": {
            "text/plain": [
              "array([[0, 3],\n",
              "       [2, 5]])"
            ]
          },
          "metadata": {},
          "execution_count": 201
        }
      ]
    },
    {
      "cell_type": "code",
      "metadata": {
        "colab": {
          "base_uri": "https://localhost:8080/"
        },
        "id": "WCmH8grKqgE_",
        "outputId": "ae3d3ae9-36b4-439b-f51c-947c46a46b62"
      },
      "source": [
        "m2_np - [[2], [1]]"
      ],
      "execution_count": null,
      "outputs": [
        {
          "output_type": "execute_result",
          "data": {
            "text/plain": [
              "array([[-2,  1],\n",
              "       [ 1,  4]])"
            ]
          },
          "metadata": {},
          "execution_count": 202
        }
      ]
    },
    {
      "cell_type": "code",
      "metadata": {
        "colab": {
          "base_uri": "https://localhost:8080/"
        },
        "id": "8rH3s-Z_tZX2",
        "outputId": "3c9a10ae-ca90-4c62-c9ba-fef0ce069dcb"
      },
      "source": [
        "m2_np - [[2.19317574],[4.19317574]]"
      ],
      "execution_count": null,
      "outputs": [
        {
          "output_type": "execute_result",
          "data": {
            "text/plain": [
              "array([[-2.19317574,  0.80682426],\n",
              "       [-2.19317574,  0.80682426]])"
            ]
          },
          "metadata": {},
          "execution_count": 203
        }
      ]
    },
    {
      "cell_type": "code",
      "metadata": {
        "colab": {
          "base_uri": "https://localhost:8080/"
        },
        "id": "EsBPBfGYWqO_",
        "outputId": "710699a9-a04b-4820-ba97-d90ea5f71bd9"
      },
      "source": [
        "sm.backward(m2), sm_np.backward(m2_np)"
      ],
      "execution_count": null,
      "outputs": [
        {
          "output_type": "stream",
          "name": "stdout",
          "text": [
            "Softmax: [2.193175735890015, 4.193175735890014]\n",
            "Softmax: [[-2.193175735890015, 0.8068242641099852], [-2.193175735890014, 0.8068242641099861]]\n",
            "Softmax_np: [[2.19317574]\n",
            " [4.19317574]]\n",
            "Softmax_np: [[-2.19317574  0.80682426]\n",
            " [-2.19317574  0.80682426]]\n"
          ]
        },
        {
          "output_type": "execute_result",
          "data": {
            "text/plain": [
              "([[-0.5898357997244456, 0.5898357997244454],\n",
              "  [-0.5898357997244453, 0.589835799724446]],\n",
              " array([[-0.5898358,  0.5898358],\n",
              "        [-0.5898358,  0.5898358]]))"
            ]
          },
          "metadata": {},
          "execution_count": 223
        }
      ]
    },
    {
      "cell_type": "code",
      "metadata": {
        "id": "UmgcN3SkW_nJ"
      },
      "source": [
        "def softmax_b(old_y, grad):\n",
        "    # shape of old_y is (64, 10), and grad is (64,)\n",
        "    res = map_mat(op.mul, old_y, grad)\n",
        "    res = [sum(res[i]) for i in range(len(old_y))] # shape is (64,)\n",
        "    return map_mat(op.mul, old_y, map_mat(op.sub, grad, res))"
      ],
      "execution_count": null,
      "outputs": []
    },
    {
      "cell_type": "code",
      "metadata": {
        "colab": {
          "base_uri": "https://localhost:8080/"
        },
        "id": "6dREGULoXAWd",
        "outputId": "baea1eae-00c9-4b41-8964-0ec07632d5a2"
      },
      "source": [
        "softmax_b([[0.2689414213699951, 0.7310585786300049],[0.2689414213699951, 0.7310585786300048]], m2)"
      ],
      "execution_count": null,
      "outputs": [
        {
          "output_type": "execute_result",
          "data": {
            "text/plain": [
              "[[-0.19661193324148193, -1.2655052240185276],\n",
              " [0.34127090949850825, 0.1966119332414822]]"
            ]
          },
          "metadata": {},
          "execution_count": 101
        }
      ]
    },
    {
      "cell_type": "code",
      "metadata": {
        "id": "h1MpK31fAVHG"
      },
      "source": [
        "class CrossEntropy():\n",
        "    def forward(self, inp, targ):\n",
        "        mat = map_mat(lambda x: x if x>1e-8 else 1e-8, inp)\n",
        "        self.old_x = mat.copy()\n",
        "        self.old_y = targ\n",
        "        res = []\n",
        "        for i in range(len(mat)):\n",
        "            for j in range(len(targ[0])):\n",
        "                if targ[i][j] == 1:\n",
        "                    res.append(-math.log(mat[i][j]))\n",
        "        return res\n",
        "\n",
        "    def backward(self):\n",
        "        mat = map_mat(lambda x: x if x>1e-8 else 1e-8, self.old_x)\n",
        "        # mat = self.old_x\n",
        "        res = lst_nums(shape(self.old_x), num=0.)\n",
        "        for i in range(len(mat)):\n",
        "            for j in range(len(self.old_y[0])):\n",
        "                if self.old_y[i][j] == 1:\n",
        "                    res[i][j] = (-1/(mat[i][j]))\n",
        "        return res"
      ],
      "execution_count": null,
      "outputs": []
    },
    {
      "cell_type": "code",
      "metadata": {
        "id": "fjTvdWrASkFU"
      },
      "source": [
        "class CrossEntropy_np():\n",
        "    def forward(self,x,y):\n",
        "        self.old_x = x.clip(min=1e-8,max=None)\n",
        "        self.old_y = y\n",
        "        return (np.where(y==1,-np.log(self.old_x), 0)).sum(axis=1)\n",
        "\n",
        "    def backward(self):\n",
        "        return np.where(self.old_y==1,-1/self.old_x, 0)"
      ],
      "execution_count": null,
      "outputs": []
    },
    {
      "cell_type": "code",
      "metadata": {
        "colab": {
          "base_uri": "https://localhost:8080/"
        },
        "id": "nXgi3XoxYvhq",
        "outputId": "e6895d39-0bc4-4af0-9b8e-5699dfe7baa9"
      },
      "source": [
        "ce = CrossEntropy()\n",
        "ce_np = CrossEntropy_np()\n",
        "ce.forward(m1, [[0, 1], [1, 0]]), ce_np.forward(m1_np, np.array([[0, 1], [1, 0]]))"
      ],
      "execution_count": null,
      "outputs": [
        {
          "output_type": "execute_result",
          "data": {
            "text/plain": [
              "([-0.6931471805599453, -1.0986122886681098], array([-0.69314718, -1.09861229]))"
            ]
          },
          "metadata": {},
          "execution_count": 109
        }
      ]
    },
    {
      "cell_type": "code",
      "metadata": {
        "colab": {
          "base_uri": "https://localhost:8080/"
        },
        "id": "6o3aQ1ytZjOu",
        "outputId": "dbb93f9e-16a6-4aba-cd3a-7b6e309c7aa1"
      },
      "source": [
        "ce.backward(), ce_np.backward()"
      ],
      "execution_count": null,
      "outputs": [
        {
          "output_type": "execute_result",
          "data": {
            "text/plain": [
              "([[0.0, -0.5], [-0.3333333333333333, 0.0]], array([[ 0.        , -0.5       ],\n",
              "        [-0.33333333,  0.        ]]))"
            ]
          },
          "metadata": {},
          "execution_count": 110
        }
      ]
    },
    {
      "cell_type": "code",
      "metadata": {
        "id": "mu9ijitQaa72"
      },
      "source": [
        "class Linear():\n",
        "    def __init__(self, n_in, n_out):\n",
        "        self.weights = lst_random((n_in, n_out), True) \n",
        "        # self.weights = [[1, 2], [3, 4]]\n",
        "        self.biases = lst_nums((n_out), num=0)\n",
        "    \n",
        "    def forward(self, inp):\n",
        "        self.old_x = inp\n",
        "        return map_mat(lambda x, y: x + y, py_matmul(inp, self.weights), self.biases)\n",
        "    \n",
        "    def backward(self, grad):\n",
        "        self.grad_b = mean_0(grad)\n",
        "        self.grad_w = py_matmul(transpose(self.old_x), grad)\n",
        "        out = py_matmul(grad, transpose(self.weights))\n",
        "        return out"
      ],
      "execution_count": null,
      "outputs": []
    },
    {
      "cell_type": "code",
      "metadata": {
        "id": "aCwIx2dlSqUA"
      },
      "source": [
        "class Linear_np():\n",
        "    def __init__(self,n_in,n_out):\n",
        "        self.weights = np.random.randn(n_in,n_out) * np.sqrt(2/n_in)\n",
        "        # self.weights = np.array([[1, 2], [3, 4]])\n",
        "        self.biases = np.zeros(n_out)\n",
        "\n",
        "    def forward(self, x):\n",
        "        self.old_x = x\n",
        "        return np.dot(x,self.weights) + self.biases\n",
        "\n",
        "    def backward(self,grad):\n",
        "        self.grad_b = grad.mean(axis=0)\n",
        "        self.grad_w = (np.matmul(self.old_x[:,:,None],grad[:,None,:])).mean(axis=0)\n",
        "        return np.dot(grad,self.weights.transpose())"
      ],
      "execution_count": null,
      "outputs": []
    },
    {
      "cell_type": "code",
      "metadata": {
        "colab": {
          "base_uri": "https://localhost:8080/"
        },
        "id": "bm1jbRRlZpKe",
        "outputId": "5fd7413d-d647-4774-821b-a7ebb585cdb7"
      },
      "source": [
        "l = Linear(2,2)\n",
        "l_np = Linear_np(2,2)\n",
        "l.forward(m1), l_np.forward(m1_np)"
      ],
      "execution_count": null,
      "outputs": [
        {
          "output_type": "execute_result",
          "data": {
            "text/plain": [
              "([[7, 10], [15, 22]], array([[ 7., 10.],\n",
              "        [15., 22.]]))"
            ]
          },
          "metadata": {},
          "execution_count": 113
        }
      ]
    },
    {
      "cell_type": "code",
      "metadata": {
        "colab": {
          "base_uri": "https://localhost:8080/"
        },
        "id": "9gPxfLwRaMYh",
        "outputId": "3337b0ec-381f-48b0-8d09-625ca4553df1"
      },
      "source": [
        "l.backward(m2), l_np.backward(m2_np)"
      ],
      "execution_count": null,
      "outputs": [
        {
          "output_type": "execute_result",
          "data": {
            "text/plain": [
              "([[8, 18], [14, 32]], array([[ 8, 18],\n",
              "        [14, 32]]))"
            ]
          },
          "metadata": {},
          "execution_count": 115
        }
      ]
    },
    {
      "cell_type": "code",
      "metadata": {
        "id": "Sc1zzFBB06Df"
      },
      "source": [
        "def mean_0 (matrix):\n",
        "    \"Find a mean in matrix over 0 axis\"\n",
        "    return [statistics.mean([m[i] for m in matrix]) for i in range(len(matrix[0]))]"
      ],
      "execution_count": null,
      "outputs": []
    },
    {
      "cell_type": "code",
      "metadata": {
        "id": "O8nyZvUFc5E4"
      },
      "source": [
        "class Model():\n",
        "    def __init__(self, layers, cost):\n",
        "        self.layers = layers\n",
        "        self.cost = cost\n",
        "\n",
        "    def forward(self,x):\n",
        "        for layer in self.layers:\n",
        "            x = layer.forward(x)\n",
        "        return x\n",
        "    \n",
        "    def make_preds(self, x):\n",
        "        outputs = self.forward(x)   # (64, 10)\n",
        "        preds = [outputs[i].index(max(outputs[i])) for i in range(len(outputs))]\n",
        "        return preds\n",
        "\n",
        "    def loss(self,x,y):\n",
        "        return self.cost.forward(self.forward(x),y)\n",
        "\n",
        "    def backward(self):\n",
        "        grad = self.cost.backward()\n",
        "        for i in range(len(self.layers)-1,-1,-1):\n",
        "            # print(f'grad for one before {self.layers[i]} is {shape(grad)}')\n",
        "            grad = self.layers[i].backward(grad)\n",
        "        # print(f'first gradient is {grad[0]}')"
      ],
      "execution_count": null,
      "outputs": []
    },
    {
      "cell_type": "code",
      "metadata": {
        "id": "OhFPmDy0SuXo"
      },
      "source": [
        "class Model_np():\n",
        "    def __init__(self, layers, cost):\n",
        "        self.layers = layers\n",
        "        self.cost = cost\n",
        "\n",
        "    def forward(self,x):\n",
        "        for layer in self.layers:\n",
        "            x = layer.forward(x)\n",
        "        return x\n",
        "\n",
        "    def loss(self,x,y):\n",
        "        return self.cost.forward(self.forward(x),y)\n",
        "\n",
        "    def backward(self):\n",
        "        grad = self.cost.backward()\n",
        "        for i in range(len(self.layers)-1,-1,-1):\n",
        "            grad = self.layers[i].backward(grad)"
      ],
      "execution_count": null,
      "outputs": []
    },
    {
      "cell_type": "code",
      "metadata": {
        "id": "eglJ7kXidNAc"
      },
      "source": [
        "def load_minibatches(trn, targets, bs=64):\n",
        "    data = []\n",
        "    for i in range((len(trn) // bs) - 1):\n",
        "        targs = lst_nums((bs, 10), 0)\n",
        "        targets_mb = targets[(i*bs) : ((i+1)*bs)]\n",
        "        for z in range(bs):\n",
        "            targs[z][targets_mb[z]] = 1.\n",
        "        data.append((trn[:bs],targs))\n",
        "    return data"
      ],
      "execution_count": null,
      "outputs": []
    },
    {
      "cell_type": "code",
      "metadata": {
        "colab": {
          "base_uri": "https://localhost:8080/"
        },
        "id": "6JP28gde9AKm",
        "outputId": "498e5ea3-2783-4e5e-ac09-145c908499ef"
      },
      "source": [
        "dataset = load_minibatches(train_imgs, train_labels)\n",
        "shape(dataset)"
      ],
      "execution_count": null,
      "outputs": [
        {
          "output_type": "execute_result",
          "data": {
            "text/plain": [
              "(8,)"
            ]
          },
          "metadata": {},
          "execution_count": 83
        }
      ]
    },
    {
      "cell_type": "code",
      "metadata": {
        "id": "9kAD7h-WdDxq"
      },
      "source": [
        "def train(model, lr ,nb_epoch, data, testset):\n",
        "    for epoch in range(nb_epoch):\n",
        "        running_loss = 0.\n",
        "        num_inputs = 0\n",
        "        for mini_batch in data:\n",
        "            corrects = 0\n",
        "            inputs, targets = mini_batch\n",
        "            test_inp, test_targs = testset\n",
        "            num_inputs += len(inputs)\n",
        "            #Forward pass + compute loss\n",
        "            # print(shape(model.loss(inputs,targets)))\n",
        "            preds = model.make_preds(test_inp)\n",
        "            for i in range(len(preds)):\n",
        "                if test_targs[i] == preds[i]:\n",
        "                    corrects += 1\n",
        "            # corrects = [test_targs[i] == preds[i] for i in range(len(preds))]\n",
        "            # print(corrects)\n",
        "            running_loss += sum(model.loss(inputs,targets))\n",
        "            #Back propagation\n",
        "            model.backward()\n",
        "            #Update the parameters\n",
        "            for layer in model.layers:\n",
        "                if type(layer) == Linear:\n",
        "                    weight_diff = [list(map(lambda x: x * lr, layer.grad_w[i])) for i in range(len(layer.grad_w))]\n",
        "                    # print(f'weight_diff: {shape(weight_diff)}, weights: {shape(layer.weights)}, grad_w: {shape(layer.grad_w)}')\n",
        "                    layer.weights = map_mat(op.sub, layer.weights, weight_diff)\n",
        "                    # layer.weights -= lr * layer.grad_w\n",
        "                    bias_diff = list(map(lambda x: x * lr, layer.grad_b))\n",
        "                    layer.biases = map_mat(op.sub, layer.biases, bias_diff)\n",
        "                    # layer.biases -= lr * layer.grad_b\n",
        "            print(f'loss = {running_loss/num_inputs}, Accuracy = {corrects*100 / len(preds)}')\n",
        "        print(f'Epoch {epoch+1}/{nb_epoch}: loss = {running_loss/num_inputs}, Accuracy = {corrects*100 / len(preds)}')"
      ],
      "execution_count": null,
      "outputs": []
    },
    {
      "cell_type": "code",
      "metadata": {
        "id": "dKp3ASITdDBY"
      },
      "source": [
        "# net = Model([Linear(784,60), Relu(), Linear(60,10), Softmax()], CrossEntropy())\n",
        "net = Model([Linear(784,60), Relu(), Linear(60,10), Softmax()], CrossEntropy())"
      ],
      "execution_count": null,
      "outputs": []
    },
    {
      "cell_type": "code",
      "metadata": {
        "colab": {
          "base_uri": "https://localhost:8080/"
        },
        "id": "R4mUVCjlj6HC",
        "outputId": "b96d7b5e-e13c-4625-d3c7-dbbfe4017553"
      },
      "source": [
        "train(net, 0.001, 10, dataset, (test_imgs, test_labels))"
      ],
      "execution_count": null,
      "outputs": [
        {
          "output_type": "stream",
          "name": "stdout",
          "text": [
            "loss = 2.430396220804606, Accuracy = 3.0\n",
            "loss = 2.3679090179772224, Accuracy = 6.0\n",
            "loss = 2.3763657151368887, Accuracy = 10.0\n",
            "loss = 2.3531926701556354, Accuracy = 11.0\n",
            "loss = 2.349502305412416, Accuracy = 12.0\n",
            "loss = 2.3445673427045297, Accuracy = 12.0\n",
            "loss = 2.343980645391663, Accuracy = 15.0\n",
            "loss = 2.346984085706289, Accuracy = 15.0\n",
            "Epoch 1/10: loss = 2.346984085706289, Accuracy = 15.0\n",
            "loss = 2.2746041440900395, Accuracy = 14.0\n",
            "loss = 2.248629992527297, Accuracy = 19.0\n",
            "loss = 2.2742998351734496, Accuracy = 18.0\n",
            "loss = 2.2635984830527427, Accuracy = 20.0\n",
            "loss = 2.269421527953034, Accuracy = 19.0\n",
            "loss = 2.2682471349208932, Accuracy = 22.0\n",
            "loss = 2.2695385416261575, Accuracy = 21.0\n",
            "loss = 2.2765253828171748, Accuracy = 22.0\n",
            "Epoch 2/10: loss = 2.2765253828171748, Accuracy = 22.0\n",
            "loss = 2.2108253149796955, Accuracy = 18.0\n",
            "loss = 2.2019492572567123, Accuracy = 23.0\n",
            "loss = 2.229776947823224, Accuracy = 22.0\n",
            "loss = 2.223779633073442, Accuracy = 22.0\n",
            "loss = 2.230734583312011, Accuracy = 20.0\n",
            "loss = 2.2300639372993736, Accuracy = 24.0\n",
            "loss = 2.230995460806782, Accuracy = 22.0\n",
            "loss = 2.239133788677141, Accuracy = 21.0\n",
            "Epoch 3/10: loss = 2.239133788677141, Accuracy = 21.0\n",
            "loss = 2.1637874172666844, Accuracy = 20.0\n",
            "loss = 2.1642453523489578, Accuracy = 24.0\n",
            "loss = 2.1968603955378083, Accuracy = 24.0\n",
            "loss = 2.193088499577704, Accuracy = 25.0\n",
            "loss = 2.200949129451277, Accuracy = 24.0\n",
            "loss = 2.2003248619602616, Accuracy = 25.0\n",
            "loss = 2.200321654021033, Accuracy = 22.0\n",
            "loss = 2.2092133211426677, Accuracy = 20.0\n",
            "Epoch 4/10: loss = 2.2092133211426677, Accuracy = 20.0\n",
            "loss = 2.128706200245396, Accuracy = 23.0\n",
            "loss = 2.1352600440774294, Accuracy = 28.0\n",
            "loss = 2.1707317564589226, Accuracy = 31.0\n",
            "loss = 2.1675811758204415, Accuracy = 28.0\n",
            "loss = 2.1761849824470407, Accuracy = 26.0\n",
            "loss = 2.1755268977331306, Accuracy = 27.0\n",
            "loss = 2.1747669587916265, Accuracy = 26.0\n",
            "loss = 2.184248530612279, Accuracy = 22.0\n",
            "Epoch 5/10: loss = 2.184248530612279, Accuracy = 22.0\n",
            "loss = 2.096914805709899, Accuracy = 24.0\n",
            "loss = 2.110028199899635, Accuracy = 29.0\n",
            "loss = 2.1479599558252267, Accuracy = 31.0\n",
            "loss = 2.145716811921206, Accuracy = 27.0\n",
            "loss = 2.154453332101832, Accuracy = 28.0\n",
            "loss = 2.153719837622655, Accuracy = 26.0\n",
            "loss = 2.1524941265283806, Accuracy = 25.0\n",
            "loss = 2.1624860124592624, Accuracy = 25.0\n",
            "Epoch 6/10: loss = 2.1624860124592624, Accuracy = 25.0\n",
            "loss = 2.0684100172010513, Accuracy = 26.0\n",
            "loss = 2.088526361674454, Accuracy = 29.0\n",
            "loss = 2.1280192693953492, Accuracy = 31.0\n",
            "loss = 2.1266833769379696, Accuracy = 30.0\n",
            "loss = 2.1362161133375284, Accuracy = 29.0\n",
            "loss = 2.135729712673618, Accuracy = 27.0\n",
            "loss = 2.133463990921976, Accuracy = 26.0\n",
            "loss = 2.1441232630261924, Accuracy = 25.0\n",
            "Epoch 7/10: loss = 2.1441232630261924, Accuracy = 25.0\n",
            "loss = 2.042474705719687, Accuracy = 25.0\n",
            "loss = 2.0686802916276763, Accuracy = 29.0\n",
            "loss = 2.1093363533552925, Accuracy = 32.0\n",
            "loss = 2.108749984227101, Accuracy = 30.0\n",
            "loss = 2.1185467644183076, Accuracy = 29.0\n",
            "loss = 2.117765112996861, Accuracy = 26.0\n",
            "loss = 2.114600953171107, Accuracy = 25.0\n",
            "loss = 2.1260570742199807, Accuracy = 26.0\n",
            "Epoch 8/10: loss = 2.1260570742199807, Accuracy = 26.0\n",
            "loss = 2.0181921974789097, Accuracy = 26.0\n",
            "loss = 2.050477350651146, Accuracy = 31.0\n",
            "loss = 2.0928595831545276, Accuracy = 33.0\n",
            "loss = 2.09286273096861, Accuracy = 30.0\n",
            "loss = 2.1028418018348622, Accuracy = 30.0\n",
            "loss = 2.102337482298093, Accuracy = 27.0\n",
            "loss = 2.0981297230113887, Accuracy = 25.0\n",
            "loss = 2.1104566620707526, Accuracy = 26.0\n",
            "Epoch 9/10: loss = 2.1104566620707526, Accuracy = 26.0\n",
            "loss = 1.9949452526057696, Accuracy = 26.0\n",
            "loss = 2.0332104830241526, Accuracy = 33.0\n",
            "loss = 2.0771902880722846, Accuracy = 33.0\n",
            "loss = 2.077378844823086, Accuracy = 30.0\n",
            "loss = 2.0878159166580046, Accuracy = 30.0\n",
            "loss = 2.087428056140829, Accuracy = 27.0\n",
            "loss = 2.082140150809015, Accuracy = 26.0\n",
            "loss = 2.0952495464836733, Accuracy = 27.0\n",
            "Epoch 10/10: loss = 2.0952495464836733, Accuracy = 27.0\n"
          ]
        }
      ]
    },
    {
      "cell_type": "code",
      "metadata": {
        "id": "fi4WfWbvgtZM"
      },
      "source": [
        "net.layers[0].weights[:10]"
      ],
      "execution_count": null,
      "outputs": []
    },
    {
      "cell_type": "code",
      "metadata": {
        "colab": {
          "base_uri": "https://localhost:8080/"
        },
        "collapsed": true,
        "id": "RG127gDJELzn",
        "outputId": "7fbf0f6a-d2df-4e79-bdfb-aeaaf91ffdcb"
      },
      "source": [
        "net.make_preds(test_imgs)[:15]"
      ],
      "execution_count": null,
      "outputs": [
        {
          "output_type": "execute_result",
          "data": {
            "text/plain": [
              "[9, 9, 1, 0, 4, 1, 9, 9, 1, 7, 8, 6, 7, 6, 1]"
            ]
          },
          "metadata": {},
          "execution_count": 207
        }
      ]
    },
    {
      "cell_type": "code",
      "metadata": {
        "colab": {
          "base_uri": "https://localhost:8080/"
        },
        "id": "hOhEiaw0XB3b",
        "outputId": "34ba6d69-142f-4fea-9bb7-66ae5bfa77f5"
      },
      "source": [
        "test_labels[:15]"
      ],
      "execution_count": null,
      "outputs": [
        {
          "output_type": "execute_result",
          "data": {
            "text/plain": [
              "[7, 2, 1, 0, 4, 1, 4, 9, 5, 9, 0, 6, 9, 0, 1]"
            ]
          },
          "metadata": {},
          "execution_count": 208
        }
      ]
    },
    {
      "cell_type": "code",
      "metadata": {
        "id": "WseWcTO7VycP"
      },
      "source": [
        "def validate(imgs, labels):\n",
        "    corrects = 0\n",
        "    for i in range(len(imgs)):\n",
        "        outputs = net(imgs[i])\n",
        "        preds = outputs.index(max(outputs))\n",
        "        print(outputs, preds)\n",
        "        if preds == labels[i]:\n",
        "            corrects += 1\n",
        "    print(f'Accuracy: {100.*corrects/len(imgs)}')"
      ],
      "execution_count": null,
      "outputs": []
    },
    {
      "cell_type": "code",
      "metadata": {
        "id": "PB1aKqDtYGxy"
      },
      "source": [
        "validate(test_imgs, test_labels)"
      ],
      "execution_count": null,
      "outputs": []
    },
    {
      "cell_type": "code",
      "metadata": {
        "id": "CrHPsgU2Zins"
      },
      "source": [
        "testset = tuple(test_imgs, test_labels)\n",
        "shape(testset)"
      ],
      "execution_count": null,
      "outputs": []
    },
    {
      "cell_type": "markdown",
      "metadata": {
        "id": "DeQdGA-kBkQk"
      },
      "source": [
        "## Data Loader"
      ]
    },
    {
      "cell_type": "markdown",
      "metadata": {
        "id": "kHu09Lu6Bmy3"
      },
      "source": [
        "Now, we will take mini bathces of data with batch size and train. "
      ]
    },
    {
      "cell_type": "code",
      "metadata": {
        "colab": {
          "base_uri": "https://localhost:8080/"
        },
        "id": "euZl8ps3B0KO",
        "outputId": "600de7b9-af5f-4dbd-e316-ca8448c9ef94"
      },
      "source": [
        "xb = py_imgs[:6400]\n",
        "yb = lst_nums((6400, 10), 0)\n",
        "yb_vals = py_train_labels[:4]\n",
        "for i in range(4):\n",
        "    yb[i][yb_vals[i]] = 1\n",
        "data = [(xb, yb)]\n",
        "shape(xb), shape(yb), shape(data)"
      ],
      "execution_count": null,
      "outputs": [
        {
          "output_type": "execute_result",
          "data": {
            "text/plain": [
              "((6400, 784), (6400, 10), (1,))"
            ]
          },
          "metadata": {},
          "execution_count": 173
        }
      ]
    },
    {
      "cell_type": "code",
      "metadata": {
        "colab": {
          "base_uri": "https://localhost:8080/"
        },
        "id": "0k5Vfj5wX_um",
        "outputId": "0a9bd607-23bd-4b5b-ed56-9e24a72bf750"
      },
      "source": [
        "64*100"
      ],
      "execution_count": null,
      "outputs": [
        {
          "output_type": "execute_result",
          "data": {
            "text/plain": [
              "6400"
            ]
          },
          "metadata": {},
          "execution_count": 174
        }
      ]
    },
    {
      "cell_type": "code",
      "metadata": {
        "colab": {
          "base_uri": "https://localhost:8080/"
        },
        "id": "Z0gQ96kOKiHe",
        "outputId": "ef19a72c-dfda-4da8-c621-99ea30b07cb1"
      },
      "source": [
        "shape(dset[0])"
      ],
      "execution_count": null,
      "outputs": [
        {
          "output_type": "execute_result",
          "data": {
            "text/plain": [
              "()"
            ]
          },
          "metadata": {},
          "execution_count": 175
        }
      ]
    },
    {
      "cell_type": "code",
      "metadata": {
        "id": "Iit3S0njJDwM"
      },
      "source": [
        "def prep_data(x=train_imgs, y=train_labels):\n",
        "    size = len(train_labels)\n",
        "    yb = lst_nums((size, 10), 0)\n",
        "    yb_vals = y[:size]\n",
        "    for i in range(size):\n",
        "        yb[i][yb_vals[i]] = 1\n",
        "    return x, yb    "
      ],
      "execution_count": null,
      "outputs": []
    },
    {
      "cell_type": "code",
      "metadata": {
        "colab": {
          "base_uri": "https://localhost:8080/"
        },
        "id": "y3AL0lanN_t2",
        "outputId": "80eb4f37-4845-418e-c27f-6974a9deb064"
      },
      "source": [
        "x, y = prep_data(600)\n",
        "shape(x), shape(y)"
      ],
      "execution_count": null,
      "outputs": [
        {
          "output_type": "execute_result",
          "data": {
            "text/plain": [
              "((25600, 784), (25600, 10))"
            ]
          },
          "metadata": {},
          "execution_count": 236
        }
      ]
    },
    {
      "cell_type": "code",
      "metadata": {
        "colab": {
          "base_uri": "https://localhost:8080/"
        },
        "id": "yORwtaqvFyf-",
        "outputId": "bf01d114-e5fb-47b0-cc1f-54245a1c02e4"
      },
      "source": [
        "x, y = prep_data()\n",
        "shape(x), shape(y)"
      ],
      "execution_count": null,
      "outputs": [
        {
          "output_type": "execute_result",
          "data": {
            "text/plain": [
              "((600, 784), (600, 10))"
            ]
          },
          "metadata": {},
          "execution_count": 175
        }
      ]
    },
    {
      "cell_type": "code",
      "metadata": {
        "id": "DpUu5kKr-Z0F"
      },
      "source": [
        "def forward_and_backward(inp, targ, w1, b1, w2, b2):\n",
        "    l1 = linear(inp,w1,b1)\n",
        "    l2 = map_mat(relu, l1)\n",
        "    # l = linear(l, w2, b2)\n",
        "    # l = softmax(l)\n",
        "    # sm = softmax\n",
        "    sm_old_y = linear(l2,w2,b2)\n",
        "    # we don't actually need the loss in backward!\n",
        "    # cel = Cross Entropy Loss\n",
        "    cel_old_x = softmax(sm_old_y)\n",
        "    cel_old_x = map_mat(lambda x: x if x>1e-8 else 1e-8, cel_old_x)\n",
        "    loss = crossentropyloss(cel_old_x, targ)\n",
        "    total_loss = sum(loss) / len(targ)\n",
        "    # print(\"Loss is \", loss)\n",
        "    \n",
        "    # backward pass:\n",
        "    # print(shape(cel_old_x), shape(targ))\n",
        "    grad = crossen_b(cel_old_x, targ)       \n",
        "    # print(grad)\n",
        "    # print(shape(grad), grad)\n",
        "    grad = softmax_b(cel_old_x,grad)\n",
        "    # print(grad)\n",
        "    # print(shape(grad), grad)\n",
        "    grad, grad_w2, grad_b2 = linear_b(l2,w2,grad)\n",
        "    # print(grad, grad_w2[10], grad_b2)\n",
        "    # print(shape(grad), grad)\n",
        "    grad = map_mat(relu_b,l1,grad)      # relu_b needs to use old_x!!!\n",
        "    # print(grad)\n",
        "    # print(shape(grad), grad)\n",
        "    grad, grad_w1, grad_b1 = linear_b(inp,w1,grad)\n",
        "    # print(grad, grad_w1[10], grad_b1)\n",
        "    # print(shape(grad), grad)\n",
        "\n",
        "    return (grad_w1, grad_b1, grad_w2, grad_b2), total_loss, w1, b1, w2, b2"
      ],
      "execution_count": null,
      "outputs": []
    },
    {
      "cell_type": "code",
      "metadata": {
        "id": "SFyRntGyFNLJ"
      },
      "source": [
        "def make_prediction(inp, w1, b1, w2, b2):\n",
        "    inp = reshape(inp, (1, 784))\n",
        "    l1 = linear(inp,w1,b1)\n",
        "    l2 = map_mat(relu, l1)\n",
        "    sm_old_y = linear(l2,w2,b2)\n",
        "    result = softmax(sm_old_y)\n",
        "    result = result[0]\n",
        "    return result.index(max(result))\n",
        "    # return result"
      ],
      "execution_count": null,
      "outputs": []
    },
    {
      "cell_type": "code",
      "metadata": {
        "id": "F_vbUcbsmB0z"
      },
      "source": [
        "w1 = lst_random((784, 56), True)\n",
        "w2 = lst_random((56, 10), True)\n",
        "b1 = lst_nums(56, 0)\n",
        "b2 = lst_nums(10, 0)\n",
        "wbs = (w1, b1, w2, b2)"
      ],
      "execution_count": null,
      "outputs": []
    },
    {
      "cell_type": "markdown",
      "metadata": {
        "id": "65fMc68CeBjp"
      },
      "source": [
        "## Time to train"
      ]
    },
    {
      "cell_type": "code",
      "metadata": {
        "id": "oYmU2hQUOzxf"
      },
      "source": [
        "6400 // 64"
      ],
      "execution_count": null,
      "outputs": []
    },
    {
      "cell_type": "code",
      "metadata": {
        "colab": {
          "base_uri": "https://localhost:8080/"
        },
        "id": "TNfoDaibVLEH",
        "outputId": "a9e5c343-41ad-4a72-8ff8-0d821fc0395b"
      },
      "source": [
        "len(list(filter(None, [make_prediction(py_test_imgs[i], w1, b1, w2, b2) == py_test_labels[i] for i in range(100)])))"
      ],
      "execution_count": null,
      "outputs": [
        {
          "output_type": "execute_result",
          "data": {
            "text/plain": [
              "78"
            ]
          },
          "metadata": {},
          "execution_count": 217
        }
      ]
    },
    {
      "cell_type": "code",
      "metadata": {
        "id": "dEm8KdTHgMQd"
      },
      "source": [
        "def train (n, w1, b1, w2, b2, x=x, y=y, bs=64, lr=0.01):\n",
        "    \"Train n times and return weights and biases\"\n",
        "    for i in range(n):\n",
        "        for j in range(len(x) // bs):\n",
        "            xb = x[j*bs:(j+1)*bs]\n",
        "            yb = y[j*bs:(j+1)*bs]\n",
        "            # Do a forward and backward then get grad\n",
        "            # grads = grad_w1, grad_b1, grad_w2, grad_b2\n",
        "            # grad_w1, grad_b1, grad_w2, grad_b2 = forward_and_backward(xb, yb)\n",
        "            grads, loss, w1, b1, w2, b2 = forward_and_backward(xb, yb, w1, b1, w2, b2)\n",
        "            # print(f'BEFORE = w1: {w1[0]}, b1: {shape(b1)}, w2: {shape(w2)}, b2: {shape(b2)}')\n",
        "            # multiply grads with lr\n",
        "            grads = [map_mat(lambda x: x*lr, mat) for mat in grads]\n",
        "            w1 = map_mat(op.sub, w1, grads[0])\n",
        "            b1 = map_mat(op.sub, b1, grads[1])\n",
        "            w2 = map_mat(op.sub, w2, grads[2])\n",
        "            b2 = map_mat(op.sub, b2, grads[3])  \n",
        "            if j % 50 == 0:\n",
        "                # preds = [make_prediction(py_test_imgs[i]) == py_test_labels[i] for i in range(100)]\n",
        "                # accuracy = len(list(filter(None, preds)))\n",
        "                accuracy = len(list(filter(None, [make_prediction(py_test_imgs[i], w1, b1, w2, b2) == py_test_labels[i] for i in range(100)])))\n",
        "                print(f\"    Batch #{j} with Loss is {loss}, Accuracy is {accuracy}%\")\n",
        "        print(f\"Epoch:{i+1} / {n}    Loss is {loss}, Accuracy is {accuracy}%\")\n",
        "    return (w1, b1, w2, b2)"
      ],
      "execution_count": null,
      "outputs": []
    },
    {
      "cell_type": "code",
      "metadata": {
        "colab": {
          "base_uri": "https://localhost:8080/",
          "height": 301
        },
        "id": "d94Ek2iohS3Q",
        "outputId": "ce6132cf-836d-483a-8b7b-a32f471b07b8"
      },
      "source": [
        "w1, b1, w2, b2 = train(2, w1, b1, w2, b2, lr=0.01)"
      ],
      "execution_count": null,
      "outputs": [
        {
          "output_type": "error",
          "ename": "NameError",
          "evalue": "ignored",
          "traceback": [
            "\u001b[0;31m---------------------------------------------------------------------------\u001b[0m",
            "\u001b[0;31mNameError\u001b[0m                                 Traceback (most recent call last)",
            "\u001b[0;32m<ipython-input-181-0b1778a7ea3a>\u001b[0m in \u001b[0;36m<module>\u001b[0;34m()\u001b[0m\n\u001b[0;32m----> 1\u001b[0;31m \u001b[0mw1\u001b[0m\u001b[0;34m,\u001b[0m \u001b[0mb1\u001b[0m\u001b[0;34m,\u001b[0m \u001b[0mw2\u001b[0m\u001b[0;34m,\u001b[0m \u001b[0mb2\u001b[0m \u001b[0;34m=\u001b[0m \u001b[0mtrain\u001b[0m\u001b[0;34m(\u001b[0m\u001b[0;36m2\u001b[0m\u001b[0;34m,\u001b[0m \u001b[0mw1\u001b[0m\u001b[0;34m,\u001b[0m \u001b[0mb1\u001b[0m\u001b[0;34m,\u001b[0m \u001b[0mw2\u001b[0m\u001b[0;34m,\u001b[0m \u001b[0mb2\u001b[0m\u001b[0;34m,\u001b[0m \u001b[0mlr\u001b[0m\u001b[0;34m=\u001b[0m\u001b[0;36m0.01\u001b[0m\u001b[0;34m)\u001b[0m\u001b[0;34m\u001b[0m\u001b[0;34m\u001b[0m\u001b[0m\n\u001b[0m",
            "\u001b[0;32m<ipython-input-178-a5f2ae5806be>\u001b[0m in \u001b[0;36mtrain\u001b[0;34m(n, w1, b1, w2, b2, x, y, bs, lr)\u001b[0m\n\u001b[1;32m      8\u001b[0m             \u001b[0;31m# grads = grad_w1, grad_b1, grad_w2, grad_b2\u001b[0m\u001b[0;34m\u001b[0m\u001b[0;34m\u001b[0m\u001b[0;34m\u001b[0m\u001b[0m\n\u001b[1;32m      9\u001b[0m             \u001b[0;31m# grad_w1, grad_b1, grad_w2, grad_b2 = forward_and_backward(xb, yb)\u001b[0m\u001b[0;34m\u001b[0m\u001b[0;34m\u001b[0m\u001b[0;34m\u001b[0m\u001b[0m\n\u001b[0;32m---> 10\u001b[0;31m             \u001b[0mgrads\u001b[0m\u001b[0;34m,\u001b[0m \u001b[0mloss\u001b[0m\u001b[0;34m,\u001b[0m \u001b[0mw1\u001b[0m\u001b[0;34m,\u001b[0m \u001b[0mb1\u001b[0m\u001b[0;34m,\u001b[0m \u001b[0mw2\u001b[0m\u001b[0;34m,\u001b[0m \u001b[0mb2\u001b[0m \u001b[0;34m=\u001b[0m \u001b[0mforward_and_backward\u001b[0m\u001b[0;34m(\u001b[0m\u001b[0mxb\u001b[0m\u001b[0;34m,\u001b[0m \u001b[0myb\u001b[0m\u001b[0;34m,\u001b[0m \u001b[0mw1\u001b[0m\u001b[0;34m,\u001b[0m \u001b[0mb1\u001b[0m\u001b[0;34m,\u001b[0m \u001b[0mw2\u001b[0m\u001b[0;34m,\u001b[0m \u001b[0mb2\u001b[0m\u001b[0;34m)\u001b[0m\u001b[0;34m\u001b[0m\u001b[0;34m\u001b[0m\u001b[0m\n\u001b[0m\u001b[1;32m     11\u001b[0m             \u001b[0;31m# print(f'BEFORE = w1: {w1[0]}, b1: {shape(b1)}, w2: {shape(w2)}, b2: {shape(b2)}')\u001b[0m\u001b[0;34m\u001b[0m\u001b[0;34m\u001b[0m\u001b[0;34m\u001b[0m\u001b[0m\n\u001b[1;32m     12\u001b[0m             \u001b[0;31m# multiply grads with lr\u001b[0m\u001b[0;34m\u001b[0m\u001b[0;34m\u001b[0m\u001b[0;34m\u001b[0m\u001b[0m\n",
            "\u001b[0;32m<ipython-input-180-83c41e9ecc5d>\u001b[0m in \u001b[0;36mforward_and_backward\u001b[0;34m(inp, targ, w1, b1, w2, b2)\u001b[0m\n\u001b[1;32m     25\u001b[0m     \u001b[0;31m# print(grad, grad_w2[10], grad_b2)\u001b[0m\u001b[0;34m\u001b[0m\u001b[0;34m\u001b[0m\u001b[0;34m\u001b[0m\u001b[0m\n\u001b[1;32m     26\u001b[0m     \u001b[0;31m# print(shape(grad), grad)\u001b[0m\u001b[0;34m\u001b[0m\u001b[0;34m\u001b[0m\u001b[0;34m\u001b[0m\u001b[0m\n\u001b[0;32m---> 27\u001b[0;31m     \u001b[0mgrad\u001b[0m \u001b[0;34m=\u001b[0m \u001b[0mmap_mat\u001b[0m\u001b[0;34m(\u001b[0m\u001b[0mrelu_b\u001b[0m\u001b[0;34m,\u001b[0m\u001b[0ml1\u001b[0m\u001b[0;34m,\u001b[0m\u001b[0mgrad\u001b[0m\u001b[0;34m)\u001b[0m      \u001b[0;31m# relu_b needs to use old_x!!!\u001b[0m\u001b[0;34m\u001b[0m\u001b[0;34m\u001b[0m\u001b[0m\n\u001b[0m\u001b[1;32m     28\u001b[0m     \u001b[0;31m# print(grad)\u001b[0m\u001b[0;34m\u001b[0m\u001b[0;34m\u001b[0m\u001b[0;34m\u001b[0m\u001b[0m\n\u001b[1;32m     29\u001b[0m     \u001b[0;31m# print(shape(grad), grad)\u001b[0m\u001b[0;34m\u001b[0m\u001b[0;34m\u001b[0m\u001b[0;34m\u001b[0m\u001b[0m\n",
            "\u001b[0;32m<ipython-input-14-ce1f918df250>\u001b[0m in \u001b[0;36mmap_mat\u001b[0;34m(fn, mat1, mat2)\u001b[0m\n\u001b[1;32m     20\u001b[0m         \u001b[0;32mreturn\u001b[0m \u001b[0mlist\u001b[0m\u001b[0;34m(\u001b[0m\u001b[0mmap\u001b[0m\u001b[0;34m(\u001b[0m\u001b[0mfn\u001b[0m\u001b[0;34m,\u001b[0m \u001b[0mmat1\u001b[0m\u001b[0;34m,\u001b[0m \u001b[0mmat2\u001b[0m\u001b[0;34m)\u001b[0m\u001b[0;34m)\u001b[0m\u001b[0;34m\u001b[0m\u001b[0;34m\u001b[0m\u001b[0m\n\u001b[1;32m     21\u001b[0m     \u001b[0;32melif\u001b[0m \u001b[0;34m(\u001b[0m\u001b[0mm1r\u001b[0m\u001b[0;34m,\u001b[0m \u001b[0mm1c\u001b[0m\u001b[0;34m)\u001b[0m \u001b[0;34m==\u001b[0m \u001b[0;34m(\u001b[0m\u001b[0mm2r\u001b[0m\u001b[0;34m,\u001b[0m \u001b[0mm2c\u001b[0m\u001b[0;34m)\u001b[0m\u001b[0;34m:\u001b[0m          \u001b[0;31m# two matrixs with same sizes\u001b[0m\u001b[0;34m\u001b[0m\u001b[0;34m\u001b[0m\u001b[0m\n\u001b[0;32m---> 22\u001b[0;31m         \u001b[0;32mreturn\u001b[0m \u001b[0;34m[\u001b[0m\u001b[0;34m[\u001b[0m\u001b[0mfn\u001b[0m\u001b[0;34m(\u001b[0m\u001b[0mx\u001b[0m\u001b[0;34m,\u001b[0m\u001b[0my\u001b[0m\u001b[0;34m)\u001b[0m \u001b[0;32mfor\u001b[0m \u001b[0mx\u001b[0m\u001b[0;34m,\u001b[0m\u001b[0my\u001b[0m \u001b[0;32min\u001b[0m \u001b[0mzip\u001b[0m\u001b[0;34m(\u001b[0m\u001b[0mmat1\u001b[0m\u001b[0;34m[\u001b[0m\u001b[0mi\u001b[0m\u001b[0;34m]\u001b[0m\u001b[0;34m,\u001b[0m \u001b[0mmat2\u001b[0m\u001b[0;34m[\u001b[0m\u001b[0mi\u001b[0m\u001b[0;34m]\u001b[0m\u001b[0;34m)\u001b[0m\u001b[0;34m]\u001b[0m \u001b[0;32mfor\u001b[0m \u001b[0mi\u001b[0m \u001b[0;32min\u001b[0m \u001b[0mrange\u001b[0m\u001b[0;34m(\u001b[0m\u001b[0mlen\u001b[0m\u001b[0;34m(\u001b[0m\u001b[0mmat1\u001b[0m\u001b[0;34m)\u001b[0m\u001b[0;34m)\u001b[0m\u001b[0;34m]\u001b[0m\u001b[0;34m\u001b[0m\u001b[0;34m\u001b[0m\u001b[0m\n\u001b[0m\u001b[1;32m     23\u001b[0m     \u001b[0;32melif\u001b[0m \u001b[0mm1c\u001b[0m \u001b[0;34m==\u001b[0m \u001b[0mm2r\u001b[0m \u001b[0;32mand\u001b[0m \u001b[0mm2c\u001b[0m\u001b[0;34m==\u001b[0m\u001b[0;36m0\u001b[0m\u001b[0;34m:\u001b[0m             \u001b[0;31m# shape of (a, b), (b,)\u001b[0m\u001b[0;34m\u001b[0m\u001b[0;34m\u001b[0m\u001b[0m\n\u001b[1;32m     24\u001b[0m         \u001b[0;32mfor\u001b[0m \u001b[0mi\u001b[0m \u001b[0;32min\u001b[0m \u001b[0mrange\u001b[0m\u001b[0;34m(\u001b[0m\u001b[0mm1r\u001b[0m\u001b[0;34m)\u001b[0m\u001b[0;34m:\u001b[0m\u001b[0;34m\u001b[0m\u001b[0;34m\u001b[0m\u001b[0m\n",
            "\u001b[0;32m<ipython-input-14-ce1f918df250>\u001b[0m in \u001b[0;36m<listcomp>\u001b[0;34m(.0)\u001b[0m\n\u001b[1;32m     20\u001b[0m         \u001b[0;32mreturn\u001b[0m \u001b[0mlist\u001b[0m\u001b[0;34m(\u001b[0m\u001b[0mmap\u001b[0m\u001b[0;34m(\u001b[0m\u001b[0mfn\u001b[0m\u001b[0;34m,\u001b[0m \u001b[0mmat1\u001b[0m\u001b[0;34m,\u001b[0m \u001b[0mmat2\u001b[0m\u001b[0;34m)\u001b[0m\u001b[0;34m)\u001b[0m\u001b[0;34m\u001b[0m\u001b[0;34m\u001b[0m\u001b[0m\n\u001b[1;32m     21\u001b[0m     \u001b[0;32melif\u001b[0m \u001b[0;34m(\u001b[0m\u001b[0mm1r\u001b[0m\u001b[0;34m,\u001b[0m \u001b[0mm1c\u001b[0m\u001b[0;34m)\u001b[0m \u001b[0;34m==\u001b[0m \u001b[0;34m(\u001b[0m\u001b[0mm2r\u001b[0m\u001b[0;34m,\u001b[0m \u001b[0mm2c\u001b[0m\u001b[0;34m)\u001b[0m\u001b[0;34m:\u001b[0m          \u001b[0;31m# two matrixs with same sizes\u001b[0m\u001b[0;34m\u001b[0m\u001b[0;34m\u001b[0m\u001b[0m\n\u001b[0;32m---> 22\u001b[0;31m         \u001b[0;32mreturn\u001b[0m \u001b[0;34m[\u001b[0m\u001b[0;34m[\u001b[0m\u001b[0mfn\u001b[0m\u001b[0;34m(\u001b[0m\u001b[0mx\u001b[0m\u001b[0;34m,\u001b[0m\u001b[0my\u001b[0m\u001b[0;34m)\u001b[0m \u001b[0;32mfor\u001b[0m \u001b[0mx\u001b[0m\u001b[0;34m,\u001b[0m\u001b[0my\u001b[0m \u001b[0;32min\u001b[0m \u001b[0mzip\u001b[0m\u001b[0;34m(\u001b[0m\u001b[0mmat1\u001b[0m\u001b[0;34m[\u001b[0m\u001b[0mi\u001b[0m\u001b[0;34m]\u001b[0m\u001b[0;34m,\u001b[0m \u001b[0mmat2\u001b[0m\u001b[0;34m[\u001b[0m\u001b[0mi\u001b[0m\u001b[0;34m]\u001b[0m\u001b[0;34m)\u001b[0m\u001b[0;34m]\u001b[0m \u001b[0;32mfor\u001b[0m \u001b[0mi\u001b[0m \u001b[0;32min\u001b[0m \u001b[0mrange\u001b[0m\u001b[0;34m(\u001b[0m\u001b[0mlen\u001b[0m\u001b[0;34m(\u001b[0m\u001b[0mmat1\u001b[0m\u001b[0;34m)\u001b[0m\u001b[0;34m)\u001b[0m\u001b[0;34m]\u001b[0m\u001b[0;34m\u001b[0m\u001b[0;34m\u001b[0m\u001b[0m\n\u001b[0m\u001b[1;32m     23\u001b[0m     \u001b[0;32melif\u001b[0m \u001b[0mm1c\u001b[0m \u001b[0;34m==\u001b[0m \u001b[0mm2r\u001b[0m \u001b[0;32mand\u001b[0m \u001b[0mm2c\u001b[0m\u001b[0;34m==\u001b[0m\u001b[0;36m0\u001b[0m\u001b[0;34m:\u001b[0m             \u001b[0;31m# shape of (a, b), (b,)\u001b[0m\u001b[0;34m\u001b[0m\u001b[0;34m\u001b[0m\u001b[0m\n\u001b[1;32m     24\u001b[0m         \u001b[0;32mfor\u001b[0m \u001b[0mi\u001b[0m \u001b[0;32min\u001b[0m \u001b[0mrange\u001b[0m\u001b[0;34m(\u001b[0m\u001b[0mm1r\u001b[0m\u001b[0;34m)\u001b[0m\u001b[0;34m:\u001b[0m\u001b[0;34m\u001b[0m\u001b[0;34m\u001b[0m\u001b[0m\n",
            "\u001b[0;32m<ipython-input-14-ce1f918df250>\u001b[0m in \u001b[0;36m<listcomp>\u001b[0;34m(.0)\u001b[0m\n\u001b[1;32m     20\u001b[0m         \u001b[0;32mreturn\u001b[0m \u001b[0mlist\u001b[0m\u001b[0;34m(\u001b[0m\u001b[0mmap\u001b[0m\u001b[0;34m(\u001b[0m\u001b[0mfn\u001b[0m\u001b[0;34m,\u001b[0m \u001b[0mmat1\u001b[0m\u001b[0;34m,\u001b[0m \u001b[0mmat2\u001b[0m\u001b[0;34m)\u001b[0m\u001b[0;34m)\u001b[0m\u001b[0;34m\u001b[0m\u001b[0;34m\u001b[0m\u001b[0m\n\u001b[1;32m     21\u001b[0m     \u001b[0;32melif\u001b[0m \u001b[0;34m(\u001b[0m\u001b[0mm1r\u001b[0m\u001b[0;34m,\u001b[0m \u001b[0mm1c\u001b[0m\u001b[0;34m)\u001b[0m \u001b[0;34m==\u001b[0m \u001b[0;34m(\u001b[0m\u001b[0mm2r\u001b[0m\u001b[0;34m,\u001b[0m \u001b[0mm2c\u001b[0m\u001b[0;34m)\u001b[0m\u001b[0;34m:\u001b[0m          \u001b[0;31m# two matrixs with same sizes\u001b[0m\u001b[0;34m\u001b[0m\u001b[0;34m\u001b[0m\u001b[0m\n\u001b[0;32m---> 22\u001b[0;31m         \u001b[0;32mreturn\u001b[0m \u001b[0;34m[\u001b[0m\u001b[0;34m[\u001b[0m\u001b[0mfn\u001b[0m\u001b[0;34m(\u001b[0m\u001b[0mx\u001b[0m\u001b[0;34m,\u001b[0m\u001b[0my\u001b[0m\u001b[0;34m)\u001b[0m \u001b[0;32mfor\u001b[0m \u001b[0mx\u001b[0m\u001b[0;34m,\u001b[0m\u001b[0my\u001b[0m \u001b[0;32min\u001b[0m \u001b[0mzip\u001b[0m\u001b[0;34m(\u001b[0m\u001b[0mmat1\u001b[0m\u001b[0;34m[\u001b[0m\u001b[0mi\u001b[0m\u001b[0;34m]\u001b[0m\u001b[0;34m,\u001b[0m \u001b[0mmat2\u001b[0m\u001b[0;34m[\u001b[0m\u001b[0mi\u001b[0m\u001b[0;34m]\u001b[0m\u001b[0;34m)\u001b[0m\u001b[0;34m]\u001b[0m \u001b[0;32mfor\u001b[0m \u001b[0mi\u001b[0m \u001b[0;32min\u001b[0m \u001b[0mrange\u001b[0m\u001b[0;34m(\u001b[0m\u001b[0mlen\u001b[0m\u001b[0;34m(\u001b[0m\u001b[0mmat1\u001b[0m\u001b[0;34m)\u001b[0m\u001b[0;34m)\u001b[0m\u001b[0;34m]\u001b[0m\u001b[0;34m\u001b[0m\u001b[0;34m\u001b[0m\u001b[0m\n\u001b[0m\u001b[1;32m     23\u001b[0m     \u001b[0;32melif\u001b[0m \u001b[0mm1c\u001b[0m \u001b[0;34m==\u001b[0m \u001b[0mm2r\u001b[0m \u001b[0;32mand\u001b[0m \u001b[0mm2c\u001b[0m\u001b[0;34m==\u001b[0m\u001b[0;36m0\u001b[0m\u001b[0;34m:\u001b[0m             \u001b[0;31m# shape of (a, b), (b,)\u001b[0m\u001b[0;34m\u001b[0m\u001b[0;34m\u001b[0m\u001b[0m\n\u001b[1;32m     24\u001b[0m         \u001b[0;32mfor\u001b[0m \u001b[0mi\u001b[0m \u001b[0;32min\u001b[0m \u001b[0mrange\u001b[0m\u001b[0;34m(\u001b[0m\u001b[0mm1r\u001b[0m\u001b[0;34m)\u001b[0m\u001b[0;34m:\u001b[0m\u001b[0;34m\u001b[0m\u001b[0;34m\u001b[0m\u001b[0m\n",
            "\u001b[0;32m<ipython-input-77-a7b2d6c94954>\u001b[0m in \u001b[0;36mrelu_b\u001b[0;34m(old_x, grad)\u001b[0m\n\u001b[1;32m      1\u001b[0m \u001b[0;32mdef\u001b[0m \u001b[0mrelu_b\u001b[0m \u001b[0;34m(\u001b[0m\u001b[0mold_x\u001b[0m\u001b[0;34m,\u001b[0m \u001b[0mgrad\u001b[0m\u001b[0;34m)\u001b[0m\u001b[0;34m:\u001b[0m\u001b[0;34m\u001b[0m\u001b[0;34m\u001b[0m\u001b[0m\n\u001b[0;32m----> 2\u001b[0;31m     \u001b[0;32mreturn\u001b[0m \u001b[0mgrad\u001b[0m \u001b[0;32mif\u001b[0m \u001b[0mold_\u001b[0m \u001b[0;34m>\u001b[0m \u001b[0;36m0\u001b[0m \u001b[0;32melse\u001b[0m \u001b[0;36m0\u001b[0m\u001b[0;34m\u001b[0m\u001b[0;34m\u001b[0m\u001b[0m\n\u001b[0m\u001b[1;32m      3\u001b[0m     \u001b[0;31m# return np.where(self.old_x>0,grad,0)\u001b[0m\u001b[0;34m\u001b[0m\u001b[0;34m\u001b[0m\u001b[0;34m\u001b[0m\u001b[0m\n",
            "\u001b[0;31mNameError\u001b[0m: name 'old_' is not defined"
          ]
        }
      ]
    },
    {
      "cell_type": "markdown",
      "metadata": {
        "id": "SmQc8cDFXoR3"
      },
      "source": [
        "Although it runs, it takes forever. Now we try to build it with classes, which is more pythonic way than functional approach."
      ]
    },
    {
      "cell_type": "code",
      "metadata": {
        "colab": {
          "base_uri": "https://localhost:8080/"
        },
        "id": "xq3To-6Kapde",
        "outputId": "cee9677d-a3d9-4998-8dcb-4bcb13fb28e1"
      },
      "source": [
        "make_prediction(py_imgs[3], w1, b1, w2, b2), py_train_labels[3]"
      ],
      "execution_count": null,
      "outputs": [
        {
          "output_type": "execute_result",
          "data": {
            "text/plain": [
              "(8, 1)"
            ]
          },
          "metadata": {},
          "execution_count": 204
        }
      ]
    },
    {
      "cell_type": "code",
      "metadata": {
        "colab": {
          "base_uri": "https://localhost:8080/"
        },
        "id": "RpS6c99-ib13",
        "outputId": "c0196db8-b37c-40c0-cba7-6c339ff2d3d2"
      },
      "source": [
        "statistics.mean(w1[0]) "
      ],
      "execution_count": null,
      "outputs": [
        {
          "output_type": "execute_result",
          "data": {
            "text/plain": [
              "0.005372460628825117"
            ]
          },
          "metadata": {},
          "execution_count": 174
        }
      ]
    },
    {
      "cell_type": "code",
      "metadata": {
        "colab": {
          "base_uri": "https://localhost:8080/"
        },
        "id": "AldnguXOhLIZ",
        "outputId": "37a54e0b-ef2d-4e2e-b0bc-701e79381165"
      },
      "source": [
        "w2[0]"
      ],
      "execution_count": null,
      "outputs": [
        {
          "output_type": "execute_result",
          "data": {
            "text/plain": [
              "[-0.06007763975570099,\n",
              " -1.2259198133278444,\n",
              " -0.09897222247527464,\n",
              " -0.3071114102461263,\n",
              " -0.27948984458414744,\n",
              " -0.17808917189109189,\n",
              " -0.7047370176018776,\n",
              " 0.030757045422782184,\n",
              " -0.24436953598084943,\n",
              " -0.24647854014061663]"
            ]
          },
          "metadata": {},
          "execution_count": 175
        }
      ]
    }
  ]
}